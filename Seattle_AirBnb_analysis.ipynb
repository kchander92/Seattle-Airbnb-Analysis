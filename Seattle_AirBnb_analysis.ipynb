{
 "cells": [
  {
   "cell_type": "markdown",
   "id": "769f683a",
   "metadata": {},
   "source": [
    "# Analysis of Airbnb Listings in Seattle in 2009-2016\n",
    "\n",
    "In this notebook, we analyze data for Airbnb listings in Seattle from this Kaggle link (https://www.kaggle.com/airbnb/seattle/data) to look for patterns that point to what kind of listing features such as neighborhood, property type, amenities, etc. would appeal strongly to customers."
   ]
  },
  {
   "cell_type": "code",
   "execution_count": 1,
   "id": "616e5356",
   "metadata": {},
   "outputs": [],
   "source": [
    "import pandas as pd\n",
    "import numpy as np\n",
    "import matplotlib.pyplot as plt\n",
    "import seaborn as sb\n",
    "\n",
    "from collections import Counter\n",
    "\n",
    "from sklearn.model_selection import train_test_split\n",
    "from sklearn.linear_model import LinearRegression\n",
    "from sklearn.metrics import r2_score\n",
    "from sklearn.ensemble import BaggingRegressor\n",
    "from sklearn.tree import DecisionTreeRegressor"
   ]
  },
  {
   "cell_type": "code",
   "execution_count": 2,
   "id": "4769f7c9",
   "metadata": {},
   "outputs": [],
   "source": [
    "listings = pd.read_csv('listings.csv')"
   ]
  },
  {
   "cell_type": "code",
   "execution_count": 3,
   "id": "e9d65388",
   "metadata": {},
   "outputs": [
    {
     "data": {
      "text/html": [
       "<div>\n",
       "<style scoped>\n",
       "    .dataframe tbody tr th:only-of-type {\n",
       "        vertical-align: middle;\n",
       "    }\n",
       "\n",
       "    .dataframe tbody tr th {\n",
       "        vertical-align: top;\n",
       "    }\n",
       "\n",
       "    .dataframe thead th {\n",
       "        text-align: right;\n",
       "    }\n",
       "</style>\n",
       "<table border=\"1\" class=\"dataframe\">\n",
       "  <thead>\n",
       "    <tr style=\"text-align: right;\">\n",
       "      <th></th>\n",
       "      <th>id</th>\n",
       "      <th>scrape_id</th>\n",
       "      <th>host_id</th>\n",
       "      <th>accommodates</th>\n",
       "      <th>guests_included</th>\n",
       "      <th>minimum_nights</th>\n",
       "      <th>maximum_nights</th>\n",
       "      <th>availability_30</th>\n",
       "      <th>availability_60</th>\n",
       "      <th>availability_90</th>\n",
       "      <th>availability_365</th>\n",
       "      <th>number_of_reviews</th>\n",
       "      <th>calculated_host_listings_count</th>\n",
       "    </tr>\n",
       "  </thead>\n",
       "  <tbody>\n",
       "    <tr>\n",
       "      <th>0</th>\n",
       "      <td>241032</td>\n",
       "      <td>20160104002432</td>\n",
       "      <td>956883</td>\n",
       "      <td>4</td>\n",
       "      <td>2</td>\n",
       "      <td>1</td>\n",
       "      <td>365</td>\n",
       "      <td>14</td>\n",
       "      <td>41</td>\n",
       "      <td>71</td>\n",
       "      <td>346</td>\n",
       "      <td>207</td>\n",
       "      <td>2</td>\n",
       "    </tr>\n",
       "    <tr>\n",
       "      <th>1</th>\n",
       "      <td>953595</td>\n",
       "      <td>20160104002432</td>\n",
       "      <td>5177328</td>\n",
       "      <td>4</td>\n",
       "      <td>1</td>\n",
       "      <td>2</td>\n",
       "      <td>90</td>\n",
       "      <td>13</td>\n",
       "      <td>13</td>\n",
       "      <td>16</td>\n",
       "      <td>291</td>\n",
       "      <td>43</td>\n",
       "      <td>6</td>\n",
       "    </tr>\n",
       "    <tr>\n",
       "      <th>2</th>\n",
       "      <td>3308979</td>\n",
       "      <td>20160104002432</td>\n",
       "      <td>16708587</td>\n",
       "      <td>11</td>\n",
       "      <td>10</td>\n",
       "      <td>4</td>\n",
       "      <td>30</td>\n",
       "      <td>1</td>\n",
       "      <td>6</td>\n",
       "      <td>17</td>\n",
       "      <td>220</td>\n",
       "      <td>20</td>\n",
       "      <td>2</td>\n",
       "    </tr>\n",
       "    <tr>\n",
       "      <th>3</th>\n",
       "      <td>7421966</td>\n",
       "      <td>20160104002432</td>\n",
       "      <td>9851441</td>\n",
       "      <td>3</td>\n",
       "      <td>1</td>\n",
       "      <td>1</td>\n",
       "      <td>1125</td>\n",
       "      <td>0</td>\n",
       "      <td>0</td>\n",
       "      <td>0</td>\n",
       "      <td>143</td>\n",
       "      <td>0</td>\n",
       "      <td>1</td>\n",
       "    </tr>\n",
       "    <tr>\n",
       "      <th>4</th>\n",
       "      <td>278830</td>\n",
       "      <td>20160104002432</td>\n",
       "      <td>1452570</td>\n",
       "      <td>6</td>\n",
       "      <td>6</td>\n",
       "      <td>1</td>\n",
       "      <td>1125</td>\n",
       "      <td>30</td>\n",
       "      <td>60</td>\n",
       "      <td>90</td>\n",
       "      <td>365</td>\n",
       "      <td>38</td>\n",
       "      <td>1</td>\n",
       "    </tr>\n",
       "    <tr>\n",
       "      <th>...</th>\n",
       "      <td>...</td>\n",
       "      <td>...</td>\n",
       "      <td>...</td>\n",
       "      <td>...</td>\n",
       "      <td>...</td>\n",
       "      <td>...</td>\n",
       "      <td>...</td>\n",
       "      <td>...</td>\n",
       "      <td>...</td>\n",
       "      <td>...</td>\n",
       "      <td>...</td>\n",
       "      <td>...</td>\n",
       "      <td>...</td>\n",
       "    </tr>\n",
       "    <tr>\n",
       "      <th>3813</th>\n",
       "      <td>8101950</td>\n",
       "      <td>20160104002432</td>\n",
       "      <td>31148752</td>\n",
       "      <td>6</td>\n",
       "      <td>1</td>\n",
       "      <td>3</td>\n",
       "      <td>1125</td>\n",
       "      <td>18</td>\n",
       "      <td>32</td>\n",
       "      <td>32</td>\n",
       "      <td>32</td>\n",
       "      <td>1</td>\n",
       "      <td>8</td>\n",
       "    </tr>\n",
       "    <tr>\n",
       "      <th>3814</th>\n",
       "      <td>8902327</td>\n",
       "      <td>20160104002432</td>\n",
       "      <td>46566046</td>\n",
       "      <td>4</td>\n",
       "      <td>3</td>\n",
       "      <td>2</td>\n",
       "      <td>29</td>\n",
       "      <td>6</td>\n",
       "      <td>26</td>\n",
       "      <td>44</td>\n",
       "      <td>273</td>\n",
       "      <td>2</td>\n",
       "      <td>1</td>\n",
       "    </tr>\n",
       "    <tr>\n",
       "      <th>3815</th>\n",
       "      <td>10267360</td>\n",
       "      <td>20160104002432</td>\n",
       "      <td>52791370</td>\n",
       "      <td>2</td>\n",
       "      <td>2</td>\n",
       "      <td>1</td>\n",
       "      <td>7</td>\n",
       "      <td>29</td>\n",
       "      <td>59</td>\n",
       "      <td>88</td>\n",
       "      <td>88</td>\n",
       "      <td>0</td>\n",
       "      <td>1</td>\n",
       "    </tr>\n",
       "    <tr>\n",
       "      <th>3816</th>\n",
       "      <td>9604740</td>\n",
       "      <td>20160104002432</td>\n",
       "      <td>25522052</td>\n",
       "      <td>2</td>\n",
       "      <td>1</td>\n",
       "      <td>3</td>\n",
       "      <td>1125</td>\n",
       "      <td>30</td>\n",
       "      <td>60</td>\n",
       "      <td>90</td>\n",
       "      <td>179</td>\n",
       "      <td>0</td>\n",
       "      <td>1</td>\n",
       "    </tr>\n",
       "    <tr>\n",
       "      <th>3817</th>\n",
       "      <td>10208623</td>\n",
       "      <td>20160104002432</td>\n",
       "      <td>14703116</td>\n",
       "      <td>3</td>\n",
       "      <td>1</td>\n",
       "      <td>1</td>\n",
       "      <td>1125</td>\n",
       "      <td>7</td>\n",
       "      <td>7</td>\n",
       "      <td>7</td>\n",
       "      <td>7</td>\n",
       "      <td>0</td>\n",
       "      <td>1</td>\n",
       "    </tr>\n",
       "  </tbody>\n",
       "</table>\n",
       "<p>3818 rows × 13 columns</p>\n",
       "</div>"
      ],
      "text/plain": [
       "            id       scrape_id   host_id  accommodates  guests_included  \\\n",
       "0       241032  20160104002432    956883             4                2   \n",
       "1       953595  20160104002432   5177328             4                1   \n",
       "2      3308979  20160104002432  16708587            11               10   \n",
       "3      7421966  20160104002432   9851441             3                1   \n",
       "4       278830  20160104002432   1452570             6                6   \n",
       "...        ...             ...       ...           ...              ...   \n",
       "3813   8101950  20160104002432  31148752             6                1   \n",
       "3814   8902327  20160104002432  46566046             4                3   \n",
       "3815  10267360  20160104002432  52791370             2                2   \n",
       "3816   9604740  20160104002432  25522052             2                1   \n",
       "3817  10208623  20160104002432  14703116             3                1   \n",
       "\n",
       "      minimum_nights  maximum_nights  availability_30  availability_60  \\\n",
       "0                  1             365               14               41   \n",
       "1                  2              90               13               13   \n",
       "2                  4              30                1                6   \n",
       "3                  1            1125                0                0   \n",
       "4                  1            1125               30               60   \n",
       "...              ...             ...              ...              ...   \n",
       "3813               3            1125               18               32   \n",
       "3814               2              29                6               26   \n",
       "3815               1               7               29               59   \n",
       "3816               3            1125               30               60   \n",
       "3817               1            1125                7                7   \n",
       "\n",
       "      availability_90  availability_365  number_of_reviews  \\\n",
       "0                  71               346                207   \n",
       "1                  16               291                 43   \n",
       "2                  17               220                 20   \n",
       "3                   0               143                  0   \n",
       "4                  90               365                 38   \n",
       "...               ...               ...                ...   \n",
       "3813               32                32                  1   \n",
       "3814               44               273                  2   \n",
       "3815               88                88                  0   \n",
       "3816               90               179                  0   \n",
       "3817                7                 7                  0   \n",
       "\n",
       "      calculated_host_listings_count  \n",
       "0                                  2  \n",
       "1                                  6  \n",
       "2                                  2  \n",
       "3                                  1  \n",
       "4                                  1  \n",
       "...                              ...  \n",
       "3813                               8  \n",
       "3814                               1  \n",
       "3815                               1  \n",
       "3816                               1  \n",
       "3817                               1  \n",
       "\n",
       "[3818 rows x 13 columns]"
      ]
     },
     "execution_count": 3,
     "metadata": {},
     "output_type": "execute_result"
    }
   ],
   "source": [
    "listings.select_dtypes('int')"
   ]
  },
  {
   "cell_type": "code",
   "execution_count": 4,
   "id": "f3d803f1",
   "metadata": {
    "scrolled": false
   },
   "outputs": [
    {
     "name": "stdout",
     "output_type": "stream",
     "text": [
      "<class 'pandas.core.frame.DataFrame'>\n",
      "RangeIndex: 3818 entries, 0 to 3817\n",
      "Data columns (total 92 columns):\n",
      " #   Column                            Non-Null Count  Dtype  \n",
      "---  ------                            --------------  -----  \n",
      " 0   id                                3818 non-null   int64  \n",
      " 1   listing_url                       3818 non-null   object \n",
      " 2   scrape_id                         3818 non-null   int64  \n",
      " 3   last_scraped                      3818 non-null   object \n",
      " 4   name                              3818 non-null   object \n",
      " 5   summary                           3641 non-null   object \n",
      " 6   space                             3249 non-null   object \n",
      " 7   description                       3818 non-null   object \n",
      " 8   experiences_offered               3818 non-null   object \n",
      " 9   neighborhood_overview             2786 non-null   object \n",
      " 10  notes                             2212 non-null   object \n",
      " 11  transit                           2884 non-null   object \n",
      " 12  thumbnail_url                     3498 non-null   object \n",
      " 13  medium_url                        3498 non-null   object \n",
      " 14  picture_url                       3818 non-null   object \n",
      " 15  xl_picture_url                    3498 non-null   object \n",
      " 16  host_id                           3818 non-null   int64  \n",
      " 17  host_url                          3818 non-null   object \n",
      " 18  host_name                         3816 non-null   object \n",
      " 19  host_since                        3816 non-null   object \n",
      " 20  host_location                     3810 non-null   object \n",
      " 21  host_about                        2959 non-null   object \n",
      " 22  host_response_time                3295 non-null   object \n",
      " 23  host_response_rate                3295 non-null   object \n",
      " 24  host_acceptance_rate              3045 non-null   object \n",
      " 25  host_is_superhost                 3816 non-null   object \n",
      " 26  host_thumbnail_url                3816 non-null   object \n",
      " 27  host_picture_url                  3816 non-null   object \n",
      " 28  host_neighbourhood                3518 non-null   object \n",
      " 29  host_listings_count               3816 non-null   float64\n",
      " 30  host_total_listings_count         3816 non-null   float64\n",
      " 31  host_verifications                3818 non-null   object \n",
      " 32  host_has_profile_pic              3816 non-null   object \n",
      " 33  host_identity_verified            3816 non-null   object \n",
      " 34  street                            3818 non-null   object \n",
      " 35  neighbourhood                     3402 non-null   object \n",
      " 36  neighbourhood_cleansed            3818 non-null   object \n",
      " 37  neighbourhood_group_cleansed      3818 non-null   object \n",
      " 38  city                              3818 non-null   object \n",
      " 39  state                             3818 non-null   object \n",
      " 40  zipcode                           3811 non-null   object \n",
      " 41  market                            3818 non-null   object \n",
      " 42  smart_location                    3818 non-null   object \n",
      " 43  country_code                      3818 non-null   object \n",
      " 44  country                           3818 non-null   object \n",
      " 45  latitude                          3818 non-null   float64\n",
      " 46  longitude                         3818 non-null   float64\n",
      " 47  is_location_exact                 3818 non-null   object \n",
      " 48  property_type                     3817 non-null   object \n",
      " 49  room_type                         3818 non-null   object \n",
      " 50  accommodates                      3818 non-null   int64  \n",
      " 51  bathrooms                         3802 non-null   float64\n",
      " 52  bedrooms                          3812 non-null   float64\n",
      " 53  beds                              3817 non-null   float64\n",
      " 54  bed_type                          3818 non-null   object \n",
      " 55  amenities                         3818 non-null   object \n",
      " 56  square_feet                       97 non-null     float64\n",
      " 57  price                             3818 non-null   object \n",
      " 58  weekly_price                      2009 non-null   object \n",
      " 59  monthly_price                     1517 non-null   object \n",
      " 60  security_deposit                  1866 non-null   object \n",
      " 61  cleaning_fee                      2788 non-null   object \n",
      " 62  guests_included                   3818 non-null   int64  \n",
      " 63  extra_people                      3818 non-null   object \n",
      " 64  minimum_nights                    3818 non-null   int64  \n",
      " 65  maximum_nights                    3818 non-null   int64  \n",
      " 66  calendar_updated                  3818 non-null   object \n",
      " 67  has_availability                  3818 non-null   object \n",
      " 68  availability_30                   3818 non-null   int64  \n",
      " 69  availability_60                   3818 non-null   int64  \n",
      " 70  availability_90                   3818 non-null   int64  \n",
      " 71  availability_365                  3818 non-null   int64  \n",
      " 72  calendar_last_scraped             3818 non-null   object \n",
      " 73  number_of_reviews                 3818 non-null   int64  \n",
      " 74  first_review                      3191 non-null   object \n",
      " 75  last_review                       3191 non-null   object \n",
      " 76  review_scores_rating              3171 non-null   float64\n",
      " 77  review_scores_accuracy            3160 non-null   float64\n",
      " 78  review_scores_cleanliness         3165 non-null   float64\n",
      " 79  review_scores_checkin             3160 non-null   float64\n",
      " 80  review_scores_communication       3167 non-null   float64\n",
      " 81  review_scores_location            3163 non-null   float64\n",
      " 82  review_scores_value               3162 non-null   float64\n",
      " 83  requires_license                  3818 non-null   object \n",
      " 84  license                           0 non-null      float64\n",
      " 85  jurisdiction_names                3818 non-null   object \n",
      " 86  instant_bookable                  3818 non-null   object \n",
      " 87  cancellation_policy               3818 non-null   object \n",
      " 88  require_guest_profile_picture     3818 non-null   object \n",
      " 89  require_guest_phone_verification  3818 non-null   object \n",
      " 90  calculated_host_listings_count    3818 non-null   int64  \n",
      " 91  reviews_per_month                 3191 non-null   float64\n",
      "dtypes: float64(17), int64(13), object(62)\n",
      "memory usage: 2.7+ MB\n"
     ]
    }
   ],
   "source": [
    "listings.info()"
   ]
  },
  {
   "cell_type": "markdown",
   "id": "8ba7c5bb",
   "metadata": {},
   "source": [
    "From looking at the data features and their data types above, we can see a lot of features that are likely not useful for our analysis and would add too many dummy variables in encoding. We should select only the relevant features that we think may be pertinent to the analysis."
   ]
  },
  {
   "cell_type": "code",
   "execution_count": 5,
   "id": "f3a91096",
   "metadata": {},
   "outputs": [],
   "source": [
    "features = ['id', 'host_response_time', 'host_response_rate', 'host_acceptance_rate', 'host_is_superhost',\n",
    "            'neighbourhood_group_cleansed', 'property_type', 'accommodates', 'bathrooms', 'bedrooms', 'amenities', 'price',\n",
    "            'guests_included', 'extra_people', 'number_of_reviews', 'review_scores_rating', 'review_scores_accuracy', 'review_scores_checkin',\n",
    "            'review_scores_cleanliness', 'review_scores_communication', 'review_scores_location', 'review_scores_value']"
   ]
  },
  {
   "cell_type": "code",
   "execution_count": 6,
   "id": "1d648bc7",
   "metadata": {},
   "outputs": [],
   "source": [
    "listings = listings[features]"
   ]
  },
  {
   "cell_type": "markdown",
   "id": "180795de",
   "metadata": {},
   "source": [
    "The response and acceptance rates are entered as strings for percentages, so we'll need to clean them up by removing the percent sign and changing the type to float. This also goes for the price data, as well as the fee for extra people, which are written as dollar-cent amounts with dollar signs."
   ]
  },
  {
   "cell_type": "code",
   "execution_count": 7,
   "id": "b35d67da",
   "metadata": {},
   "outputs": [],
   "source": [
    "listings['host_response_rate'] = listings['host_response_rate'].str.slice(stop=-1).astype('float64')\n",
    "listings['host_acceptance_rate'] = listings['host_acceptance_rate'].str.slice(stop=-1).astype('float64')"
   ]
  },
  {
   "cell_type": "code",
   "execution_count": 8,
   "id": "763a0667",
   "metadata": {},
   "outputs": [],
   "source": [
    "listings['price'] = listings['price'].str.slice(start=1).str.replace(',', '').astype('float64')\n",
    "listings['extra_people'] = listings['extra_people'].str.slice(start=1).str.replace(',', '').astype('float64')"
   ]
  },
  {
   "cell_type": "code",
   "execution_count": 9,
   "id": "48def354",
   "metadata": {},
   "outputs": [
    {
     "name": "stdout",
     "output_type": "stream",
     "text": [
      "<class 'pandas.core.frame.DataFrame'>\n",
      "RangeIndex: 3818 entries, 0 to 3817\n",
      "Data columns (total 22 columns):\n",
      " #   Column                        Non-Null Count  Dtype  \n",
      "---  ------                        --------------  -----  \n",
      " 0   id                            3818 non-null   int64  \n",
      " 1   host_response_time            3295 non-null   object \n",
      " 2   host_response_rate            3295 non-null   float64\n",
      " 3   host_acceptance_rate          3045 non-null   float64\n",
      " 4   host_is_superhost             3816 non-null   object \n",
      " 5   neighbourhood_group_cleansed  3818 non-null   object \n",
      " 6   property_type                 3817 non-null   object \n",
      " 7   accommodates                  3818 non-null   int64  \n",
      " 8   bathrooms                     3802 non-null   float64\n",
      " 9   bedrooms                      3812 non-null   float64\n",
      " 10  amenities                     3818 non-null   object \n",
      " 11  price                         3818 non-null   float64\n",
      " 12  guests_included               3818 non-null   int64  \n",
      " 13  extra_people                  3818 non-null   float64\n",
      " 14  number_of_reviews             3818 non-null   int64  \n",
      " 15  review_scores_rating          3171 non-null   float64\n",
      " 16  review_scores_accuracy        3160 non-null   float64\n",
      " 17  review_scores_checkin         3160 non-null   float64\n",
      " 18  review_scores_cleanliness     3165 non-null   float64\n",
      " 19  review_scores_communication   3167 non-null   float64\n",
      " 20  review_scores_location        3163 non-null   float64\n",
      " 21  review_scores_value           3162 non-null   float64\n",
      "dtypes: float64(13), int64(4), object(5)\n",
      "memory usage: 656.3+ KB\n"
     ]
    }
   ],
   "source": [
    "listings.info()"
   ]
  },
  {
   "cell_type": "markdown",
   "id": "12f1353c",
   "metadata": {},
   "source": [
    "This is looking much better! Now we have a few categorical features that we will need to encode appropriately. First we should modify the amenities column, where every entry is a string with a list of amenities in that listing. Separating all the amenities into separate columns that can be encoded into binary variables for each listing can be accomplished using a Counter object."
   ]
  },
  {
   "cell_type": "code",
   "execution_count": 10,
   "id": "d7c74151",
   "metadata": {},
   "outputs": [],
   "source": [
    "listings['amenities'] = listings['amenities'].str.slice(start=1, stop=-1).str.replace('\\\"', '').str.split(',')"
   ]
  },
  {
   "cell_type": "code",
   "execution_count": 11,
   "id": "271383aa",
   "metadata": {},
   "outputs": [],
   "source": [
    "amenities_all = [val for lst in listings['amenities'] for val in lst]"
   ]
  },
  {
   "cell_type": "code",
   "execution_count": 12,
   "id": "296670f5",
   "metadata": {},
   "outputs": [
    {
     "data": {
      "text/plain": [
       "['TV',\n",
       " 'Cable TV',\n",
       " 'Internet',\n",
       " 'Wireless Internet',\n",
       " 'Air Conditioning',\n",
       " 'Kitchen',\n",
       " 'Heating',\n",
       " 'Family/Kid Friendly',\n",
       " 'Washer',\n",
       " 'Dryer',\n",
       " 'Free Parking on Premises',\n",
       " 'Buzzer/Wireless Intercom',\n",
       " 'Smoke Detector',\n",
       " 'Carbon Monoxide Detector',\n",
       " 'First Aid Kit',\n",
       " 'Safety Card',\n",
       " 'Fire Extinguisher',\n",
       " 'Essentials',\n",
       " 'Pets Allowed',\n",
       " 'Pets live on this property',\n",
       " 'Dog(s)',\n",
       " 'Cat(s)',\n",
       " 'Hot Tub',\n",
       " 'Indoor Fireplace',\n",
       " 'Shampoo',\n",
       " 'Breakfast',\n",
       " '24-Hour Check-in',\n",
       " 'Hangers',\n",
       " 'Hair Dryer',\n",
       " 'Iron',\n",
       " 'Laptop Friendly Workspace',\n",
       " 'Suitable for Events',\n",
       " 'Elevator in Building',\n",
       " 'Lock on Bedroom Door',\n",
       " 'Wheelchair Accessible',\n",
       " 'Gym',\n",
       " 'Pool',\n",
       " 'Smoking Allowed',\n",
       " 'Other pet(s)',\n",
       " 'Doorman',\n",
       " 'Washer / Dryer']"
      ]
     },
     "execution_count": 12,
     "metadata": {},
     "output_type": "execute_result"
    }
   ],
   "source": [
    "amenities = list(Counter(amenities_all).keys())\n",
    "amenities.remove('')\n",
    "amenities"
   ]
  },
  {
   "cell_type": "code",
   "execution_count": 13,
   "id": "e40c5e78",
   "metadata": {},
   "outputs": [],
   "source": [
    "for item in amenities:\n",
    "    listings[item] = listings['amenities'].apply(lambda x: 1 if item in x else 0)"
   ]
  },
  {
   "cell_type": "markdown",
   "id": "3b821fdc",
   "metadata": {},
   "source": [
    "Now we can combine some of the redundant amenities into other columns before dropping them."
   ]
  },
  {
   "cell_type": "code",
   "execution_count": 14,
   "id": "9d353f86",
   "metadata": {},
   "outputs": [],
   "source": [
    "listings['TV'] = listings['TV'] + listings['Cable TV']\n",
    "listings['TV'] = listings['TV'].apply(lambda x: 1 if x > 0 else 0)\n",
    "listings.drop(columns=['Cable TV'], inplace=True)\n",
    "\n",
    "listings['Wireless Internet'] = listings['Wireless Internet'] + listings['Internet']\n",
    "listings['Wireless Internet'] = listings['Wireless Internet'].apply(lambda x: 1 if x > 0 else 0)\n",
    "listings.drop(columns=['Internet'], inplace=True)\n",
    "\n",
    "listings['Washer'] = listings['Washer'] + listings['Washer / Dryer']\n",
    "listings['Dryer'] = listings['Dryer'] + listings['Washer / Dryer']\n",
    "listings['Washer'] = listings['Washer'].apply(lambda x: 1 if x > 0 else 0)\n",
    "listings['Dryer'] = listings['Dryer'].apply(lambda x: 1 if x > 0 else 0)\n",
    "listings.drop(columns=['Washer / Dryer'], inplace=True)\n",
    "\n",
    "listings['Pets live on this property'] = listings['Pets live on this property'] + listings['Dog(s)'] + listings['Cat(s)'] + listings['Other pet(s)']\n",
    "listings['Pets live on this property'] = listings['Pets live on this property'].apply(lambda x: 1 if x > 0 else 0)\n",
    "listings.drop(columns=['Dog(s)', 'Cat(s)', 'Other pet(s)'], inplace=True)\n",
    "\n",
    "listings.drop(columns=['amenities'], inplace=True)\n",
    "amenities_drop = ['Cable TV', 'Internet', 'Washer / Dryer', 'Dog(s)', 'Cat(s)', 'Other pet(s)']\n",
    "amenities = [val for val in amenities if val not in amenities_drop]"
   ]
  },
  {
   "cell_type": "markdown",
   "id": "bc309810",
   "metadata": {},
   "source": [
    "Finally we combine all the amenities columns to create a new feature that shows how many amenities are available total, which removes the need for individual amenities columns. The idea is that individual amenities themselves may not matter for how much a listing is reviewed or how much it's liked, but rather the number of them."
   ]
  },
  {
   "cell_type": "code",
   "execution_count": 15,
   "id": "64618066",
   "metadata": {},
   "outputs": [],
   "source": [
    "listings['num_amenities'] = listings[amenities].sum(axis=1)\n",
    "listings.drop(columns=amenities, inplace=True)"
   ]
  },
  {
   "cell_type": "code",
   "execution_count": 16,
   "id": "ff89e850",
   "metadata": {},
   "outputs": [
    {
     "data": {
      "text/plain": [
       "House              1733\n",
       "Apartment          1708\n",
       "Townhouse           118\n",
       "Condominium          91\n",
       "Loft                 40\n",
       "Bed & Breakfast      37\n",
       "Other                22\n",
       "Cabin                21\n",
       "Camper/RV            13\n",
       "Bungalow             13\n",
       "Boat                  8\n",
       "Tent                  5\n",
       "Treehouse             3\n",
       "Dorm                  2\n",
       "Chalet                2\n",
       "Yurt                  1\n",
       "Name: property_type, dtype: int64"
      ]
     },
     "execution_count": 16,
     "metadata": {},
     "output_type": "execute_result"
    }
   ],
   "source": [
    "listings['property_type'].value_counts()"
   ]
  },
  {
   "cell_type": "markdown",
   "id": "15e04116",
   "metadata": {},
   "source": [
    "With a lot of property types contained in very low numbers of listings, we modify those to \"Other\" before encoding."
   ]
  },
  {
   "cell_type": "code",
   "execution_count": 17,
   "id": "270abf85",
   "metadata": {},
   "outputs": [],
   "source": [
    "listings['property_type'].replace(['Bed & Breakfast', 'Cabin', 'Camper/RV', 'Bungalow', 'Boat', 'Tent',\n",
    "                                   'Treehouse', 'Dorm', 'Chalet', 'Yurt'], 'Other', inplace=True)"
   ]
  },
  {
   "cell_type": "code",
   "execution_count": 18,
   "id": "075cd057",
   "metadata": {},
   "outputs": [
    {
     "data": {
      "text/plain": [
       "House          1733\n",
       "Apartment      1708\n",
       "Other           127\n",
       "Townhouse       118\n",
       "Condominium      91\n",
       "Loft             40\n",
       "Name: property_type, dtype: int64"
      ]
     },
     "execution_count": 18,
     "metadata": {},
     "output_type": "execute_result"
    }
   ],
   "source": [
    "listings['property_type'].value_counts()"
   ]
  },
  {
   "cell_type": "code",
   "execution_count": 19,
   "id": "b4022c56",
   "metadata": {
    "scrolled": true
   },
   "outputs": [
    {
     "data": {
      "text/plain": [
       "within an hour        1692\n",
       "within a few hours     968\n",
       "within a day           597\n",
       "a few days or more      38\n",
       "Name: host_response_time, dtype: int64"
      ]
     },
     "execution_count": 19,
     "metadata": {},
     "output_type": "execute_result"
    }
   ],
   "source": [
    "listings['host_response_time'].value_counts()"
   ]
  },
  {
   "cell_type": "code",
   "execution_count": 20,
   "id": "e4eb04f7",
   "metadata": {},
   "outputs": [
    {
     "data": {
      "text/plain": [
       "Other neighborhoods    794\n",
       "Capitol Hill           567\n",
       "Downtown               530\n",
       "Central Area           369\n",
       "Queen Anne             295\n",
       "Ballard                230\n",
       "West Seattle           203\n",
       "Rainier Valley         159\n",
       "University District    122\n",
       "Beacon Hill            118\n",
       "Cascade                 89\n",
       "Northgate               80\n",
       "Delridge                79\n",
       "Lake City               67\n",
       "Magnolia                61\n",
       "Seward Park             44\n",
       "Interbay                11\n",
       "Name: neighbourhood_group_cleansed, dtype: int64"
      ]
     },
     "execution_count": 20,
     "metadata": {},
     "output_type": "execute_result"
    }
   ],
   "source": [
    "listings['neighbourhood_group_cleansed'].value_counts()"
   ]
  },
  {
   "cell_type": "markdown",
   "id": "abbb4794",
   "metadata": {},
   "source": [
    "The same modification that was done for property type is done for the neighborhood group, to replace low-count neighborhood groups with \"Other neighborhoods\" before encoding."
   ]
  },
  {
   "cell_type": "code",
   "execution_count": 21,
   "id": "bbab31bb",
   "metadata": {},
   "outputs": [],
   "source": [
    "listings['neighbourhood_group_cleansed'].replace(['Cascade', 'Northgate', 'Delridge', 'Lake City', 'Magnolia',\n",
    "                                                  'Seward Park', 'Interbay'], 'Other neighborhoods', inplace=True)"
   ]
  },
  {
   "cell_type": "code",
   "execution_count": 22,
   "id": "e580dded",
   "metadata": {},
   "outputs": [
    {
     "data": {
      "text/plain": [
       "Other neighborhoods    1225\n",
       "Capitol Hill            567\n",
       "Downtown                530\n",
       "Central Area            369\n",
       "Queen Anne              295\n",
       "Ballard                 230\n",
       "West Seattle            203\n",
       "Rainier Valley          159\n",
       "University District     122\n",
       "Beacon Hill             118\n",
       "Name: neighbourhood_group_cleansed, dtype: int64"
      ]
     },
     "execution_count": 22,
     "metadata": {},
     "output_type": "execute_result"
    }
   ],
   "source": [
    "listings['neighbourhood_group_cleansed'].value_counts()"
   ]
  },
  {
   "cell_type": "markdown",
   "id": "1734385e",
   "metadata": {},
   "source": [
    "Now it's time to make a new DataFrame that numerically encodes the categorical features. We want to retain the original DataFrame in order to make plots with the original data labels. In the numerically encoded DataFrame, first for the column that indicates if the host is a superhost or not, the 'f' for false should be changed to a 0 and the 't' for true to 1. Then we add dummy variables for the other categorical features, followed by deleting the dummy variables for 'Other' in order to remove linear dependence from our linear regression models."
   ]
  },
  {
   "cell_type": "code",
   "execution_count": 23,
   "id": "fcee87c3",
   "metadata": {},
   "outputs": [],
   "source": [
    "listings_num = listings.copy()"
   ]
  },
  {
   "cell_type": "code",
   "execution_count": 24,
   "id": "3ce74564",
   "metadata": {},
   "outputs": [],
   "source": [
    "listings_num['host_is_superhost'] = listings['host_is_superhost'].map({'f': 0, 't': 1})"
   ]
  },
  {
   "cell_type": "code",
   "execution_count": 25,
   "id": "6c3070da",
   "metadata": {
    "scrolled": true
   },
   "outputs": [],
   "source": [
    "listings_num = pd.get_dummies(data=listings_num, columns=['host_response_time', 'neighbourhood_group_cleansed', 'property_type'])"
   ]
  },
  {
   "cell_type": "code",
   "execution_count": 26,
   "id": "b525c04f",
   "metadata": {},
   "outputs": [
    {
     "name": "stdout",
     "output_type": "stream",
     "text": [
      "<class 'pandas.core.frame.DataFrame'>\n",
      "RangeIndex: 3818 entries, 0 to 3817\n",
      "Data columns (total 39 columns):\n",
      " #   Column                                            Non-Null Count  Dtype  \n",
      "---  ------                                            --------------  -----  \n",
      " 0   id                                                3818 non-null   int64  \n",
      " 1   host_response_rate                                3295 non-null   float64\n",
      " 2   host_acceptance_rate                              3045 non-null   float64\n",
      " 3   host_is_superhost                                 3816 non-null   float64\n",
      " 4   accommodates                                      3818 non-null   int64  \n",
      " 5   bathrooms                                         3802 non-null   float64\n",
      " 6   bedrooms                                          3812 non-null   float64\n",
      " 7   price                                             3818 non-null   float64\n",
      " 8   guests_included                                   3818 non-null   int64  \n",
      " 9   extra_people                                      3818 non-null   float64\n",
      " 10  number_of_reviews                                 3818 non-null   int64  \n",
      " 11  review_scores_rating                              3171 non-null   float64\n",
      " 12  review_scores_accuracy                            3160 non-null   float64\n",
      " 13  review_scores_checkin                             3160 non-null   float64\n",
      " 14  review_scores_cleanliness                         3165 non-null   float64\n",
      " 15  review_scores_communication                       3167 non-null   float64\n",
      " 16  review_scores_location                            3163 non-null   float64\n",
      " 17  review_scores_value                               3162 non-null   float64\n",
      " 18  num_amenities                                     3818 non-null   int64  \n",
      " 19  host_response_time_a few days or more             3818 non-null   uint8  \n",
      " 20  host_response_time_within a day                   3818 non-null   uint8  \n",
      " 21  host_response_time_within a few hours             3818 non-null   uint8  \n",
      " 22  host_response_time_within an hour                 3818 non-null   uint8  \n",
      " 23  neighbourhood_group_cleansed_Ballard              3818 non-null   uint8  \n",
      " 24  neighbourhood_group_cleansed_Beacon Hill          3818 non-null   uint8  \n",
      " 25  neighbourhood_group_cleansed_Capitol Hill         3818 non-null   uint8  \n",
      " 26  neighbourhood_group_cleansed_Central Area         3818 non-null   uint8  \n",
      " 27  neighbourhood_group_cleansed_Downtown             3818 non-null   uint8  \n",
      " 28  neighbourhood_group_cleansed_Other neighborhoods  3818 non-null   uint8  \n",
      " 29  neighbourhood_group_cleansed_Queen Anne           3818 non-null   uint8  \n",
      " 30  neighbourhood_group_cleansed_Rainier Valley       3818 non-null   uint8  \n",
      " 31  neighbourhood_group_cleansed_University District  3818 non-null   uint8  \n",
      " 32  neighbourhood_group_cleansed_West Seattle         3818 non-null   uint8  \n",
      " 33  property_type_Apartment                           3818 non-null   uint8  \n",
      " 34  property_type_Condominium                         3818 non-null   uint8  \n",
      " 35  property_type_House                               3818 non-null   uint8  \n",
      " 36  property_type_Loft                                3818 non-null   uint8  \n",
      " 37  property_type_Other                               3818 non-null   uint8  \n",
      " 38  property_type_Townhouse                           3818 non-null   uint8  \n",
      "dtypes: float64(14), int64(5), uint8(20)\n",
      "memory usage: 641.4 KB\n"
     ]
    }
   ],
   "source": [
    "listings_num.info()"
   ]
  },
  {
   "cell_type": "code",
   "execution_count": 27,
   "id": "24825e83",
   "metadata": {},
   "outputs": [
    {
     "name": "stdout",
     "output_type": "stream",
     "text": [
      "<class 'pandas.core.frame.DataFrame'>\n",
      "RangeIndex: 3818 entries, 0 to 3817\n",
      "Data columns (total 37 columns):\n",
      " #   Column                                            Non-Null Count  Dtype  \n",
      "---  ------                                            --------------  -----  \n",
      " 0   id                                                3818 non-null   int64  \n",
      " 1   host_response_rate                                3295 non-null   float64\n",
      " 2   host_acceptance_rate                              3045 non-null   float64\n",
      " 3   host_is_superhost                                 3816 non-null   float64\n",
      " 4   accommodates                                      3818 non-null   int64  \n",
      " 5   bathrooms                                         3802 non-null   float64\n",
      " 6   bedrooms                                          3812 non-null   float64\n",
      " 7   price                                             3818 non-null   float64\n",
      " 8   guests_included                                   3818 non-null   int64  \n",
      " 9   extra_people                                      3818 non-null   float64\n",
      " 10  number_of_reviews                                 3818 non-null   int64  \n",
      " 11  review_scores_rating                              3171 non-null   float64\n",
      " 12  review_scores_accuracy                            3160 non-null   float64\n",
      " 13  review_scores_checkin                             3160 non-null   float64\n",
      " 14  review_scores_cleanliness                         3165 non-null   float64\n",
      " 15  review_scores_communication                       3167 non-null   float64\n",
      " 16  review_scores_location                            3163 non-null   float64\n",
      " 17  review_scores_value                               3162 non-null   float64\n",
      " 18  num_amenities                                     3818 non-null   int64  \n",
      " 19  host_response_time_a few days or more             3818 non-null   uint8  \n",
      " 20  host_response_time_within a day                   3818 non-null   uint8  \n",
      " 21  host_response_time_within a few hours             3818 non-null   uint8  \n",
      " 22  host_response_time_within an hour                 3818 non-null   uint8  \n",
      " 23  neighbourhood_group_cleansed_Ballard              3818 non-null   uint8  \n",
      " 24  neighbourhood_group_cleansed_Beacon Hill          3818 non-null   uint8  \n",
      " 25  neighbourhood_group_cleansed_Capitol Hill         3818 non-null   uint8  \n",
      " 26  neighbourhood_group_cleansed_Central Area         3818 non-null   uint8  \n",
      " 27  neighbourhood_group_cleansed_Downtown             3818 non-null   uint8  \n",
      " 28  neighbourhood_group_cleansed_Queen Anne           3818 non-null   uint8  \n",
      " 29  neighbourhood_group_cleansed_Rainier Valley       3818 non-null   uint8  \n",
      " 30  neighbourhood_group_cleansed_University District  3818 non-null   uint8  \n",
      " 31  neighbourhood_group_cleansed_West Seattle         3818 non-null   uint8  \n",
      " 32  property_type_Apartment                           3818 non-null   uint8  \n",
      " 33  property_type_Condominium                         3818 non-null   uint8  \n",
      " 34  property_type_House                               3818 non-null   uint8  \n",
      " 35  property_type_Loft                                3818 non-null   uint8  \n",
      " 36  property_type_Townhouse                           3818 non-null   uint8  \n",
      "dtypes: float64(14), int64(5), uint8(18)\n",
      "memory usage: 634.0 KB\n"
     ]
    }
   ],
   "source": [
    "listings_num.drop(columns=['neighbourhood_group_cleansed_Other neighborhoods', 'property_type_Other'], inplace=True)\n",
    "listings_num.info()"
   ]
  },
  {
   "cell_type": "code",
   "execution_count": 28,
   "id": "883edfec",
   "metadata": {},
   "outputs": [
    {
     "name": "stdout",
     "output_type": "stream",
     "text": [
      "<class 'pandas.core.frame.DataFrame'>\n",
      "RangeIndex: 3818 entries, 0 to 3817\n",
      "Data columns (total 22 columns):\n",
      " #   Column                        Non-Null Count  Dtype  \n",
      "---  ------                        --------------  -----  \n",
      " 0   id                            3818 non-null   int64  \n",
      " 1   host_response_time            3295 non-null   object \n",
      " 2   host_response_rate            3295 non-null   float64\n",
      " 3   host_acceptance_rate          3045 non-null   float64\n",
      " 4   host_is_superhost             3816 non-null   object \n",
      " 5   neighbourhood_group_cleansed  3818 non-null   object \n",
      " 6   property_type                 3817 non-null   object \n",
      " 7   accommodates                  3818 non-null   int64  \n",
      " 8   bathrooms                     3802 non-null   float64\n",
      " 9   bedrooms                      3812 non-null   float64\n",
      " 10  price                         3818 non-null   float64\n",
      " 11  guests_included               3818 non-null   int64  \n",
      " 12  extra_people                  3818 non-null   float64\n",
      " 13  number_of_reviews             3818 non-null   int64  \n",
      " 14  review_scores_rating          3171 non-null   float64\n",
      " 15  review_scores_accuracy        3160 non-null   float64\n",
      " 16  review_scores_checkin         3160 non-null   float64\n",
      " 17  review_scores_cleanliness     3165 non-null   float64\n",
      " 18  review_scores_communication   3167 non-null   float64\n",
      " 19  review_scores_location        3163 non-null   float64\n",
      " 20  review_scores_value           3162 non-null   float64\n",
      " 21  num_amenities                 3818 non-null   int64  \n",
      "dtypes: float64(13), int64(5), object(4)\n",
      "memory usage: 656.3+ KB\n"
     ]
    }
   ],
   "source": [
    "listings.info()"
   ]
  },
  {
   "cell_type": "markdown",
   "id": "6ef8a325",
   "metadata": {},
   "source": [
    "Now that we have one dataframe with all the key features cleanly separated, and another with encoding for categorical features, we can answer some different questions about the data that the company would be interested to learn to inform further business practices."
   ]
  },
  {
   "cell_type": "markdown",
   "id": "70e5a7f5",
   "metadata": {},
   "source": [
    "## Question 1: What are the most expensive neighborhoods and property types?"
   ]
  },
  {
   "cell_type": "code",
   "execution_count": 29,
   "id": "0080854a",
   "metadata": {},
   "outputs": [
    {
     "data": {
      "text/plain": [
       "<seaborn.axisgrid.FacetGrid at 0x20fa6a339a0>"
      ]
     },
     "execution_count": 29,
     "metadata": {},
     "output_type": "execute_result"
    },
    {
     "data": {
      "image/png": "[encoded data removed]",
      "text/plain": [
       "<Figure size 864x648 with 10 Axes>"
      ]
     },
     "metadata": {
      "needs_background": "light"
     },
     "output_type": "display_data"
    }
   ],
   "source": [
    "g = sb.FacetGrid(listings, col='neighbourhood_group_cleansed', col_wrap=4, sharex=False, sharey=False)\n",
    "g.map_dataframe(sb.histplot, x='price', bins=100)\n",
    "g.set_titles(col_template=\"{col_name}\")"
   ]
  },
  {
   "cell_type": "code",
   "execution_count": 30,
   "id": "a94ecfb2",
   "metadata": {},
   "outputs": [
    {
     "data": {
      "text/plain": [
       "<seaborn.axisgrid.FacetGrid at 0x20fa7d560d0>"
      ]
     },
     "execution_count": 30,
     "metadata": {},
     "output_type": "execute_result"
    },
    {
     "data": {
      "image/png": "[encoded data removed]",
      "text/plain": [
       "<Figure size 864x432 with 6 Axes>"
      ]
     },
     "metadata": {
      "needs_background": "light"
     },
     "output_type": "display_data"
    }
   ],
   "source": [
    "g = sb.FacetGrid(listings, col='property_type', col_wrap=4, sharex = False, sharey=False)\n",
    "g.map_dataframe(sb.histplot, x='price', bins=100)\n",
    "g.set_titles(col_template=\"{col_name}\")"
   ]
  },
  {
   "cell_type": "markdown",
   "id": "304ca8e1",
   "metadata": {},
   "source": [
    "This facet grid of histograms of price by neighboorhood group and property type above tells us that while there may be differences in the mean price by each category, the number of data points for each category can be very disparate, which is also important to account for in answering the primary question because of how data volume can impact the spread. This can also be illustrated by juxtaposing bar plots and violin plots as shown below."
   ]
  },
  {
   "cell_type": "code",
   "execution_count": 31,
   "id": "10779e7e",
   "metadata": {},
   "outputs": [],
   "source": [
    "def bar_violin_plot(num_feature, cat_feature, x_label, y_label, title, length, width):\n",
    "    plt.figure(figsize=[length,width])\n",
    "    ax1 = plt.subplot(2,1,1)\n",
    "    sb.set_style(\"whitegrid\")\n",
    "    sb.barplot(data=listings, x=num_feature, y=cat_feature, color=sb.color_palette()[0], ax=ax1,\n",
    "           order=listings.groupby([cat_feature]).mean()[num_feature].sort_values(ascending=False).index, ci=None)\n",
    "    ax1.set_xlabel(x_label)\n",
    "    ax1.set_ylabel(y_label)\n",
    "    ax1.set_title(title)\n",
    "    \n",
    "    ax2 = plt.subplot(2,1,2)\n",
    "    sb.violinplot(data=listings, x=num_feature, y=cat_feature, color=sb.color_palette()[0], ax=ax2,\n",
    "           order=listings.groupby([cat_feature]).mean()[num_feature].sort_values(ascending=False).index, ci=None)\n",
    "    ax2.set_xlabel(x_label)\n",
    "    ax2.set_ylabel(y_label)\n",
    "    \n",
    "    "
   ]
  },
  {
   "cell_type": "code",
   "execution_count": 32,
   "id": "687ea758",
   "metadata": {
    "scrolled": false
   },
   "outputs": [
    {
     "data": {
      "image/png": "[encoded data removed]",
      "text/plain": [
       "<Figure size 576x1008 with 2 Axes>"
      ]
     },
     "metadata": {
      "needs_background": "light"
     },
     "output_type": "display_data"
    }
   ],
   "source": [
    "bar_violin_plot('price', 'neighbourhood_group_cleansed', 'Price ($)', 'Neighborhood Group', \n",
    "                'Listing price by neighborhood group', 8, 14)"
   ]
  },
  {
   "cell_type": "code",
   "execution_count": 33,
   "id": "94048c60",
   "metadata": {},
   "outputs": [
    {
     "data": {
      "text/plain": [
       "Other neighborhoods    1225\n",
       "Capitol Hill            567\n",
       "Downtown                530\n",
       "Central Area            369\n",
       "Queen Anne              295\n",
       "Ballard                 230\n",
       "West Seattle            203\n",
       "Rainier Valley          159\n",
       "University District     122\n",
       "Beacon Hill             118\n",
       "Name: neighbourhood_group_cleansed, dtype: int64"
      ]
     },
     "execution_count": 33,
     "metadata": {},
     "output_type": "execute_result"
    }
   ],
   "source": [
    "listings['neighbourhood_group_cleansed'].value_counts()"
   ]
  },
  {
   "cell_type": "code",
   "execution_count": 34,
   "id": "98ab3934",
   "metadata": {
    "scrolled": false
   },
   "outputs": [
    {
     "data": {
      "image/png": "[encoded data removed]",
      "text/plain": [
       "<Figure size 576x1008 with 2 Axes>"
      ]
     },
     "metadata": {},
     "output_type": "display_data"
    }
   ],
   "source": [
    "bar_violin_plot('price', 'property_type', 'Price ($)', 'Property Type',\n",
    "                'Listing price by property type', 8, 14)"
   ]
  },
  {
   "cell_type": "code",
   "execution_count": 35,
   "id": "c55e8cd8",
   "metadata": {},
   "outputs": [
    {
     "data": {
      "text/plain": [
       "House          1733\n",
       "Apartment      1708\n",
       "Other           127\n",
       "Townhouse       118\n",
       "Condominium      91\n",
       "Loft             40\n",
       "Name: property_type, dtype: int64"
      ]
     },
     "execution_count": 35,
     "metadata": {},
     "output_type": "execute_result"
    }
   ],
   "source": [
    "listings['property_type'].value_counts()"
   ]
  },
  {
   "cell_type": "markdown",
   "id": "48f138f4",
   "metadata": {},
   "source": [
    "The three most expensive neighborhood groups on average tended to be Queen Anne, Downtown and West Seattle. Of these three, Downtown had the most listings and in fact had the second most listings overall. The three cheapest neighborhood groups were Beacon Hill, University District and Rainier Valley, which also had the fewest listings among all neighborhood groups.\n",
    "\n",
    "The most expensive property type on average was the condominium, but there were far fewer listings of those types. Houses were the third most expensive and had the most listings of all property types."
   ]
  },
  {
   "cell_type": "markdown",
   "id": "ba984f16",
   "metadata": {},
   "source": [
    "## Question 2: What features best correlate to high ratings for listings?"
   ]
  },
  {
   "cell_type": "code",
   "execution_count": 36,
   "id": "311171ad",
   "metadata": {},
   "outputs": [],
   "source": [
    "listings_num.drop(columns='id', inplace=True)"
   ]
  },
  {
   "cell_type": "code",
   "execution_count": 37,
   "id": "a0ae251a",
   "metadata": {},
   "outputs": [
    {
     "name": "stdout",
     "output_type": "stream",
     "text": [
      "<class 'pandas.core.frame.DataFrame'>\n",
      "RangeIndex: 3818 entries, 0 to 3817\n",
      "Data columns (total 7 columns):\n",
      " #   Column                       Non-Null Count  Dtype  \n",
      "---  ------                       --------------  -----  \n",
      " 0   review_scores_rating         3171 non-null   float64\n",
      " 1   review_scores_accuracy       3160 non-null   float64\n",
      " 2   review_scores_checkin        3160 non-null   float64\n",
      " 3   review_scores_cleanliness    3165 non-null   float64\n",
      " 4   review_scores_communication  3167 non-null   float64\n",
      " 5   review_scores_location       3163 non-null   float64\n",
      " 6   review_scores_value          3162 non-null   float64\n",
      "dtypes: float64(7)\n",
      "memory usage: 208.9 KB\n"
     ]
    }
   ],
   "source": [
    "listings_num[[col for col in listings_num.columns if 'review_scores' in col]].info()"
   ]
  },
  {
   "cell_type": "code",
   "execution_count": 38,
   "id": "d67a7f4b",
   "metadata": {},
   "outputs": [
    {
     "name": "stdout",
     "output_type": "stream",
     "text": [
      "<class 'pandas.core.frame.DataFrame'>\n",
      "Int64Index: 3158 entries, 0 to 3814\n",
      "Data columns (total 7 columns):\n",
      " #   Column                       Non-Null Count  Dtype  \n",
      "---  ------                       --------------  -----  \n",
      " 0   review_scores_rating         3158 non-null   float64\n",
      " 1   review_scores_accuracy       3158 non-null   float64\n",
      " 2   review_scores_checkin        3158 non-null   float64\n",
      " 3   review_scores_cleanliness    3158 non-null   float64\n",
      " 4   review_scores_communication  3158 non-null   float64\n",
      " 5   review_scores_location       3158 non-null   float64\n",
      " 6   review_scores_value          3158 non-null   float64\n",
      "dtypes: float64(7)\n",
      "memory usage: 197.4 KB\n"
     ]
    }
   ],
   "source": [
    "review_scores = listings_num[[col for col in listings_num.columns if 'review_scores' in col]].dropna()\n",
    "review_scores.info()"
   ]
  },
  {
   "cell_type": "code",
   "execution_count": 39,
   "id": "31654d4b",
   "metadata": {},
   "outputs": [
    {
     "data": {
      "text/plain": [
       "0.6372625619317189"
      ]
     },
     "execution_count": 39,
     "metadata": {},
     "output_type": "execute_result"
    }
   ],
   "source": [
    "X = review_scores.drop(columns='review_scores_rating')\n",
    "y = review_scores['review_scores_rating']\n",
    "\n",
    "X_train, X_test, y_train, y_test = train_test_split(X, y, test_size=0.3, random_state=42)\n",
    "\n",
    "lm = LinearRegression()\n",
    "lm.fit(X_train, y_train)\n",
    "y_pred = lm.predict(X_test)\n",
    "r2_score(y_test, y_pred)"
   ]
  },
  {
   "cell_type": "code",
   "execution_count": 40,
   "id": "d08ead54",
   "metadata": {},
   "outputs": [
    {
     "data": {
      "text/plain": [
       "array([1.4860041 , 1.54851985, 2.34098924, 1.2717486 , 0.55625523,\n",
       "       2.90630231])"
      ]
     },
     "execution_count": 40,
     "metadata": {},
     "output_type": "execute_result"
    }
   ],
   "source": [
    "lm.coef_"
   ]
  },
  {
   "cell_type": "code",
   "execution_count": 41,
   "id": "0c6066d4",
   "metadata": {},
   "outputs": [
    {
     "data": {
      "text/plain": [
       "array(['review_scores_accuracy', 'review_scores_checkin',\n",
       "       'review_scores_cleanliness', 'review_scores_communication',\n",
       "       'review_scores_location', 'review_scores_value'], dtype=object)"
      ]
     },
     "execution_count": 41,
     "metadata": {},
     "output_type": "execute_result"
    }
   ],
   "source": [
    "lm.feature_names_in_"
   ]
  },
  {
   "cell_type": "code",
   "execution_count": 42,
   "id": "8c72cc99",
   "metadata": {},
   "outputs": [
    {
     "data": {
      "text/html": [
       "<div>\n",
       "<style scoped>\n",
       "    .dataframe tbody tr th:only-of-type {\n",
       "        vertical-align: middle;\n",
       "    }\n",
       "\n",
       "    .dataframe tbody tr th {\n",
       "        vertical-align: top;\n",
       "    }\n",
       "\n",
       "    .dataframe thead th {\n",
       "        text-align: right;\n",
       "    }\n",
       "</style>\n",
       "<table border=\"1\" class=\"dataframe\">\n",
       "  <thead>\n",
       "    <tr style=\"text-align: right;\">\n",
       "      <th></th>\n",
       "      <th>coefficients</th>\n",
       "    </tr>\n",
       "  </thead>\n",
       "  <tbody>\n",
       "    <tr>\n",
       "      <th>review_scores_accuracy</th>\n",
       "      <td>1.486004</td>\n",
       "    </tr>\n",
       "    <tr>\n",
       "      <th>review_scores_checkin</th>\n",
       "      <td>1.548520</td>\n",
       "    </tr>\n",
       "    <tr>\n",
       "      <th>review_scores_cleanliness</th>\n",
       "      <td>2.340989</td>\n",
       "    </tr>\n",
       "    <tr>\n",
       "      <th>review_scores_communication</th>\n",
       "      <td>1.271749</td>\n",
       "    </tr>\n",
       "    <tr>\n",
       "      <th>review_scores_location</th>\n",
       "      <td>0.556255</td>\n",
       "    </tr>\n",
       "    <tr>\n",
       "      <th>review_scores_value</th>\n",
       "      <td>2.906302</td>\n",
       "    </tr>\n",
       "  </tbody>\n",
       "</table>\n",
       "</div>"
      ],
      "text/plain": [
       "                             coefficients\n",
       "review_scores_accuracy           1.486004\n",
       "review_scores_checkin            1.548520\n",
       "review_scores_cleanliness        2.340989\n",
       "review_scores_communication      1.271749\n",
       "review_scores_location           0.556255\n",
       "review_scores_value              2.906302"
      ]
     },
     "execution_count": 42,
     "metadata": {},
     "output_type": "execute_result"
    }
   ],
   "source": [
    "review_score_coeffs = pd.DataFrame(data=lm.coef_, index=lm.feature_names_in_, columns=['coefficients'])\n",
    "review_score_coeffs"
   ]
  },
  {
   "cell_type": "code",
   "execution_count": 43,
   "id": "8fe42b6e",
   "metadata": {},
   "outputs": [
    {
     "data": {
      "text/plain": [
       "Text(0.5, 0.98, 'Rating Score Against Specific Scores')"
      ]
     },
     "execution_count": 43,
     "metadata": {},
     "output_type": "execute_result"
    },
    {
     "data": {
      "image/png": "[encoded data removed]",
      "text/plain": [
       "<Figure size 1152x432 with 6 Axes>"
      ]
     },
     "metadata": {},
     "output_type": "display_data"
    }
   ],
   "source": [
    "fig, ax = plt.subplots(1, 6, figsize=(16,6))\n",
    "\n",
    "for i,col in enumerate(X.columns):\n",
    "    sb.regplot(x=X[col], y=y, ax=ax[i])\n",
    "    if i > 0:\n",
    "        ax[i].set_ylabel('')\n",
    "        ax[i].set_yticklabels('')\n",
    "    else:\n",
    "        ax[i].set_ylabel('Review Scores Rating')\n",
    "    ax[i].set_xlabel(col.replace('_', ' ').title())\n",
    "\n",
    "fig.suptitle('Rating Score Against Specific Scores')"
   ]
  },
  {
   "cell_type": "code",
   "execution_count": 44,
   "id": "5fc263ca",
   "metadata": {
    "scrolled": true
   },
   "outputs": [
    {
     "data": {
      "text/plain": [
       "<AxesSubplot:>"
      ]
     },
     "execution_count": 44,
     "metadata": {},
     "output_type": "execute_result"
    },
    {
     "data": {
      "image/png": "[encoded data removed]",
      "text/plain": [
       "<Figure size 432x288 with 2 Axes>"
      ]
     },
     "metadata": {},
     "output_type": "display_data"
    }
   ],
   "source": [
    "sb.heatmap(review_scores.corr(), annot=True)"
   ]
  },
  {
   "cell_type": "markdown",
   "id": "093fb8c5",
   "metadata": {},
   "source": [
    "First I wanted to see how the overall ratings correlated to more specific review scores. By fitting a linear regression model to those review scores as the independent variables and the overall rating as the dependent variable, we can see that overall ratings correlate positively to all of them as expected, but the relative strength of those correlations is shown by the heat map above, and it's clear that the strongest correlation is between the overall rating and review scores that assess the value of the listing, which shows that reviewers likely place more worth of a listing on its value."
   ]
  },
  {
   "cell_type": "code",
   "execution_count": 45,
   "id": "dd15ab1e",
   "metadata": {},
   "outputs": [
    {
     "name": "stdout",
     "output_type": "stream",
     "text": [
      "<class 'pandas.core.frame.DataFrame'>\n",
      "Int64Index: 2655 entries, 0 to 3814\n",
      "Data columns (total 30 columns):\n",
      " #   Column                                            Non-Null Count  Dtype  \n",
      "---  ------                                            --------------  -----  \n",
      " 0   host_response_rate                                2655 non-null   float64\n",
      " 1   host_acceptance_rate                              2655 non-null   float64\n",
      " 2   host_is_superhost                                 2655 non-null   float64\n",
      " 3   accommodates                                      2655 non-null   int64  \n",
      " 4   bathrooms                                         2655 non-null   float64\n",
      " 5   bedrooms                                          2655 non-null   float64\n",
      " 6   price                                             2655 non-null   float64\n",
      " 7   guests_included                                   2655 non-null   int64  \n",
      " 8   extra_people                                      2655 non-null   float64\n",
      " 9   number_of_reviews                                 2655 non-null   int64  \n",
      " 10  review_scores_rating                              2655 non-null   float64\n",
      " 11  num_amenities                                     2655 non-null   int64  \n",
      " 12  host_response_time_a few days or more             2655 non-null   uint8  \n",
      " 13  host_response_time_within a day                   2655 non-null   uint8  \n",
      " 14  host_response_time_within a few hours             2655 non-null   uint8  \n",
      " 15  host_response_time_within an hour                 2655 non-null   uint8  \n",
      " 16  neighbourhood_group_cleansed_Ballard              2655 non-null   uint8  \n",
      " 17  neighbourhood_group_cleansed_Beacon Hill          2655 non-null   uint8  \n",
      " 18  neighbourhood_group_cleansed_Capitol Hill         2655 non-null   uint8  \n",
      " 19  neighbourhood_group_cleansed_Central Area         2655 non-null   uint8  \n",
      " 20  neighbourhood_group_cleansed_Downtown             2655 non-null   uint8  \n",
      " 21  neighbourhood_group_cleansed_Queen Anne           2655 non-null   uint8  \n",
      " 22  neighbourhood_group_cleansed_Rainier Valley       2655 non-null   uint8  \n",
      " 23  neighbourhood_group_cleansed_University District  2655 non-null   uint8  \n",
      " 24  neighbourhood_group_cleansed_West Seattle         2655 non-null   uint8  \n",
      " 25  property_type_Apartment                           2655 non-null   uint8  \n",
      " 26  property_type_Condominium                         2655 non-null   uint8  \n",
      " 27  property_type_House                               2655 non-null   uint8  \n",
      " 28  property_type_Loft                                2655 non-null   uint8  \n",
      " 29  property_type_Townhouse                           2655 non-null   uint8  \n",
      "dtypes: float64(8), int64(4), uint8(18)\n",
      "memory usage: 316.3 KB\n"
     ]
    }
   ],
   "source": [
    "listings_ratings = listings_num.dropna().drop(columns=['review_scores_accuracy', 'review_scores_checkin',\n",
    "                                                       'review_scores_cleanliness', 'review_scores_communication',\n",
    "                                                       'review_scores_location', 'review_scores_value'])\n",
    "\n",
    "listings_ratings.info()"
   ]
  },
  {
   "cell_type": "code",
   "execution_count": 46,
   "id": "0c6278f9",
   "metadata": {},
   "outputs": [
    {
     "data": {
      "text/plain": [
       "0.08086722748638364"
      ]
     },
     "execution_count": 46,
     "metadata": {},
     "output_type": "execute_result"
    }
   ],
   "source": [
    "X = listings_ratings.drop(columns='review_scores_rating')\n",
    "y = (listings_ratings['review_scores_rating'] - listings_ratings['review_scores_rating'].min()) / (listings_ratings['review_scores_rating'].max() - listings_ratings['review_scores_rating'].min())\n",
    "# I normalize the ratings above so that they're not on a scale of 0-100 but this time on a 0-1 scale\n",
    "\n",
    "X_train, X_test, y_train, y_test = train_test_split(X, y, test_size=0.3, random_state=42)\n",
    "\n",
    "lm = LinearRegression()\n",
    "lm.fit(X_train, y_train)\n",
    "y_pred = lm.predict(X_test)\n",
    "r2_score(y_test, y_pred)"
   ]
  },
  {
   "cell_type": "code",
   "execution_count": 47,
   "id": "abfa3459",
   "metadata": {},
   "outputs": [
    {
     "data": {
      "text/html": [
       "<div>\n",
       "<style scoped>\n",
       "    .dataframe tbody tr th:only-of-type {\n",
       "        vertical-align: middle;\n",
       "    }\n",
       "\n",
       "    .dataframe tbody tr th {\n",
       "        vertical-align: top;\n",
       "    }\n",
       "\n",
       "    .dataframe thead th {\n",
       "        text-align: right;\n",
       "    }\n",
       "</style>\n",
       "<table border=\"1\" class=\"dataframe\">\n",
       "  <thead>\n",
       "    <tr style=\"text-align: right;\">\n",
       "      <th></th>\n",
       "      <th>coefficients</th>\n",
       "    </tr>\n",
       "  </thead>\n",
       "  <tbody>\n",
       "    <tr>\n",
       "      <th>neighbourhood_group_cleansed_University District</th>\n",
       "      <td>-0.084014</td>\n",
       "    </tr>\n",
       "    <tr>\n",
       "      <th>property_type_Apartment</th>\n",
       "      <td>-0.015673</td>\n",
       "    </tr>\n",
       "    <tr>\n",
       "      <th>neighbourhood_group_cleansed_Downtown</th>\n",
       "      <td>-0.013703</td>\n",
       "    </tr>\n",
       "    <tr>\n",
       "      <th>property_type_Loft</th>\n",
       "      <td>-0.012950</td>\n",
       "    </tr>\n",
       "    <tr>\n",
       "      <th>property_type_House</th>\n",
       "      <td>-0.009436</td>\n",
       "    </tr>\n",
       "    <tr>\n",
       "      <th>neighbourhood_group_cleansed_Rainier Valley</th>\n",
       "      <td>-0.007120</td>\n",
       "    </tr>\n",
       "    <tr>\n",
       "      <th>host_response_time_within a few hours</th>\n",
       "      <td>-0.006363</td>\n",
       "    </tr>\n",
       "    <tr>\n",
       "      <th>property_type_Condominium</th>\n",
       "      <td>-0.006342</td>\n",
       "    </tr>\n",
       "    <tr>\n",
       "      <th>neighbourhood_group_cleansed_Capitol Hill</th>\n",
       "      <td>-0.006240</td>\n",
       "    </tr>\n",
       "    <tr>\n",
       "      <th>host_response_time_a few days or more</th>\n",
       "      <td>-0.006059</td>\n",
       "    </tr>\n",
       "    <tr>\n",
       "      <th>accommodates</th>\n",
       "      <td>-0.004810</td>\n",
       "    </tr>\n",
       "    <tr>\n",
       "      <th>bedrooms</th>\n",
       "      <td>-0.002167</td>\n",
       "    </tr>\n",
       "    <tr>\n",
       "      <th>guests_included</th>\n",
       "      <td>-0.001854</td>\n",
       "    </tr>\n",
       "    <tr>\n",
       "      <th>host_acceptance_rate</th>\n",
       "      <td>-0.000747</td>\n",
       "    </tr>\n",
       "    <tr>\n",
       "      <th>extra_people</th>\n",
       "      <td>-0.000306</td>\n",
       "    </tr>\n",
       "    <tr>\n",
       "      <th>number_of_reviews</th>\n",
       "      <td>-0.000026</td>\n",
       "    </tr>\n",
       "    <tr>\n",
       "      <th>price</th>\n",
       "      <td>0.000122</td>\n",
       "    </tr>\n",
       "    <tr>\n",
       "      <th>host_response_rate</th>\n",
       "      <td>0.000747</td>\n",
       "    </tr>\n",
       "    <tr>\n",
       "      <th>neighbourhood_group_cleansed_Beacon Hill</th>\n",
       "      <td>0.001766</td>\n",
       "    </tr>\n",
       "    <tr>\n",
       "      <th>bathrooms</th>\n",
       "      <td>0.002262</td>\n",
       "    </tr>\n",
       "    <tr>\n",
       "      <th>num_amenities</th>\n",
       "      <td>0.002779</td>\n",
       "    </tr>\n",
       "    <tr>\n",
       "      <th>host_response_time_within an hour</th>\n",
       "      <td>0.002959</td>\n",
       "    </tr>\n",
       "    <tr>\n",
       "      <th>neighbourhood_group_cleansed_Ballard</th>\n",
       "      <td>0.004925</td>\n",
       "    </tr>\n",
       "    <tr>\n",
       "      <th>neighbourhood_group_cleansed_Queen Anne</th>\n",
       "      <td>0.004931</td>\n",
       "    </tr>\n",
       "    <tr>\n",
       "      <th>property_type_Townhouse</th>\n",
       "      <td>0.008524</td>\n",
       "    </tr>\n",
       "    <tr>\n",
       "      <th>neighbourhood_group_cleansed_West Seattle</th>\n",
       "      <td>0.008652</td>\n",
       "    </tr>\n",
       "    <tr>\n",
       "      <th>host_response_time_within a day</th>\n",
       "      <td>0.009464</td>\n",
       "    </tr>\n",
       "    <tr>\n",
       "      <th>neighbourhood_group_cleansed_Central Area</th>\n",
       "      <td>0.013485</td>\n",
       "    </tr>\n",
       "    <tr>\n",
       "      <th>host_is_superhost</th>\n",
       "      <td>0.040860</td>\n",
       "    </tr>\n",
       "  </tbody>\n",
       "</table>\n",
       "</div>"
      ],
      "text/plain": [
       "                                                  coefficients\n",
       "neighbourhood_group_cleansed_University District     -0.084014\n",
       "property_type_Apartment                              -0.015673\n",
       "neighbourhood_group_cleansed_Downtown                -0.013703\n",
       "property_type_Loft                                   -0.012950\n",
       "property_type_House                                  -0.009436\n",
       "neighbourhood_group_cleansed_Rainier Valley          -0.007120\n",
       "host_response_time_within a few hours                -0.006363\n",
       "property_type_Condominium                            -0.006342\n",
       "neighbourhood_group_cleansed_Capitol Hill            -0.006240\n",
       "host_response_time_a few days or more                -0.006059\n",
       "accommodates                                         -0.004810\n",
       "bedrooms                                             -0.002167\n",
       "guests_included                                      -0.001854\n",
       "host_acceptance_rate                                 -0.000747\n",
       "extra_people                                         -0.000306\n",
       "number_of_reviews                                    -0.000026\n",
       "price                                                 0.000122\n",
       "host_response_rate                                    0.000747\n",
       "neighbourhood_group_cleansed_Beacon Hill              0.001766\n",
       "bathrooms                                             0.002262\n",
       "num_amenities                                         0.002779\n",
       "host_response_time_within an hour                     0.002959\n",
       "neighbourhood_group_cleansed_Ballard                  0.004925\n",
       "neighbourhood_group_cleansed_Queen Anne               0.004931\n",
       "property_type_Townhouse                               0.008524\n",
       "neighbourhood_group_cleansed_West Seattle             0.008652\n",
       "host_response_time_within a day                       0.009464\n",
       "neighbourhood_group_cleansed_Central Area             0.013485\n",
       "host_is_superhost                                     0.040860"
      ]
     },
     "execution_count": 47,
     "metadata": {},
     "output_type": "execute_result"
    }
   ],
   "source": [
    "all_coeffs = pd.DataFrame(data=lm.coef_, index=lm.feature_names_in_, columns=['coefficients'])\n",
    "all_coeffs.sort_values(by='coefficients')"
   ]
  },
  {
   "cell_type": "markdown",
   "id": "a205bdc4",
   "metadata": {},
   "source": [
    "Next I fitted another linear regression model between the overall rating and all the other features that had nothing to do with review scores. With the caveat that the R-squared score is rather low because we're fitting a linear regression model with a lot of dummy variables, we can actually see that some categorical features have greater predictive value for overall ratings. For example, if a host is a superhost, they're much more likely to get higher ratings. On the other hand, listings in the University District get lower ratings than all other listings, as can be seen in the bar chart below. The violin plot also shows a greater spread for the review score of listings in the University District, which adds further affirmation to the notion that listings there are more likely to be rated poorly."
   ]
  },
  {
   "cell_type": "code",
   "execution_count": 48,
   "id": "896e3010",
   "metadata": {},
   "outputs": [
    {
     "data": {
      "image/png": "[encoded data removed]",
      "text/plain": [
       "<Figure size 576x1008 with 2 Axes>"
      ]
     },
     "metadata": {},
     "output_type": "display_data"
    }
   ],
   "source": [
    "bar_violin_plot('review_scores_rating', 'neighbourhood_group_cleansed', 'Review Score Rating', 'Neighborhood Group',\n",
    "                'Rating by Neighborhood Group', 8, 14)"
   ]
  },
  {
   "cell_type": "code",
   "execution_count": 49,
   "id": "60c55500",
   "metadata": {},
   "outputs": [
    {
     "data": {
      "text/plain": [
       "neighbourhood_group_cleansed\n",
       "University District    88.437500\n",
       "Downtown               93.958333\n",
       "Beacon Hill            94.019417\n",
       "Capitol Hill           94.184783\n",
       "Other neighborhoods    94.483034\n",
       "Rainier Valley         94.731343\n",
       "Queen Anne             95.443089\n",
       "Ballard                95.533679\n",
       "West Seattle           95.864198\n",
       "Central Area           96.009404\n",
       "Name: review_scores_rating, dtype: float64"
      ]
     },
     "execution_count": 49,
     "metadata": {},
     "output_type": "execute_result"
    }
   ],
   "source": [
    "listings.groupby(['neighbourhood_group_cleansed']).mean()['review_scores_rating'].sort_values()"
   ]
  },
  {
   "cell_type": "code",
   "execution_count": 50,
   "id": "099ca2e2",
   "metadata": {
    "scrolled": false
   },
   "outputs": [
    {
     "data": {
      "image/png": "[encoded data removed]",
      "text/plain": [
       "<Figure size 1152x432 with 2 Axes>"
      ]
     },
     "metadata": {},
     "output_type": "display_data"
    }
   ],
   "source": [
    "fig, ax = plt.subplots(1, 2, figsize=[16,6])\n",
    "\n",
    "sb.barplot(data=listings, x='host_is_superhost', y='review_scores_rating', ax=ax[0], color=sb.color_palette()[0], ci=None)\n",
    "ax[0].set_xticklabels(['false', 'true'])\n",
    "ax[0].set_xlabel('Host is superhost')\n",
    "ax[0].set_ylabel('Review score rating')\n",
    "ax[0].set_title('Review Score Rating by Superhost Status')\n",
    "\n",
    "sb.violinplot(data=listings, x='host_is_superhost', y='review_scores_rating', color=sb.color_palette()[0], ax=ax[1])\n",
    "ax[1].set_xticklabels(['false', 'true'])\n",
    "ax[1].set_xlabel('Host is superhost')\n",
    "ax[1].set_ylabel('Review score rating');"
   ]
  },
  {
   "cell_type": "code",
   "execution_count": 51,
   "id": "d5b3ac2d",
   "metadata": {},
   "outputs": [
    {
     "data": {
      "text/plain": [
       "host_is_superhost\n",
       "f    93.652893\n",
       "t    97.395473\n",
       "Name: review_scores_rating, dtype: float64"
      ]
     },
     "execution_count": 51,
     "metadata": {},
     "output_type": "execute_result"
    }
   ],
   "source": [
    "listings.groupby(['host_is_superhost']).mean()['review_scores_rating'].sort_values()"
   ]
  },
  {
   "cell_type": "markdown",
   "id": "c66cb727",
   "metadata": {},
   "source": [
    "## Question 3: What kinds of listings get high numbers of reviews?"
   ]
  },
  {
   "cell_type": "code",
   "execution_count": 52,
   "id": "91128d20",
   "metadata": {},
   "outputs": [
    {
     "data": {
      "text/plain": [
       "Index(['host_response_rate', 'host_acceptance_rate', 'host_is_superhost',\n",
       "       'accommodates', 'bathrooms', 'bedrooms', 'price', 'guests_included',\n",
       "       'extra_people', 'number_of_reviews', 'num_amenities',\n",
       "       'host_response_time_a few days or more',\n",
       "       'host_response_time_within a day',\n",
       "       'host_response_time_within a few hours',\n",
       "       'host_response_time_within an hour',\n",
       "       'neighbourhood_group_cleansed_Ballard',\n",
       "       'neighbourhood_group_cleansed_Beacon Hill',\n",
       "       'neighbourhood_group_cleansed_Capitol Hill',\n",
       "       'neighbourhood_group_cleansed_Central Area',\n",
       "       'neighbourhood_group_cleansed_Downtown',\n",
       "       'neighbourhood_group_cleansed_Queen Anne',\n",
       "       'neighbourhood_group_cleansed_Rainier Valley',\n",
       "       'neighbourhood_group_cleansed_University District',\n",
       "       'neighbourhood_group_cleansed_West Seattle', 'property_type_Apartment',\n",
       "       'property_type_Condominium', 'property_type_House',\n",
       "       'property_type_Loft', 'property_type_Townhouse'],\n",
       "      dtype='object')"
      ]
     },
     "execution_count": 52,
     "metadata": {},
     "output_type": "execute_result"
    }
   ],
   "source": [
    "listings_num_reviews = listings_num.dropna()[[col for col in listings_num.columns if 'review_scores' not in col]]\n",
    "listings_num_reviews.columns"
   ]
  },
  {
   "cell_type": "code",
   "execution_count": 53,
   "id": "57f96816",
   "metadata": {},
   "outputs": [
    {
     "data": {
      "text/plain": [
       "0.07013679426670238"
      ]
     },
     "execution_count": 53,
     "metadata": {},
     "output_type": "execute_result"
    }
   ],
   "source": [
    "X = listings_num_reviews.drop(columns='number_of_reviews')\n",
    "y = listings_num_reviews['number_of_reviews']\n",
    "\n",
    "X_train, X_test, y_train, y_test = train_test_split(X, y, test_size=0.3, random_state=42)\n",
    "\n",
    "lm = LinearRegression()\n",
    "lm.fit(X_train, y_train)\n",
    "y_pred = lm.predict(X_test)\n",
    "r2_score(y_test, y_pred)"
   ]
  },
  {
   "cell_type": "code",
   "execution_count": 54,
   "id": "ef12b22f",
   "metadata": {},
   "outputs": [
    {
     "data": {
      "text/html": [
       "<div>\n",
       "<style scoped>\n",
       "    .dataframe tbody tr th:only-of-type {\n",
       "        vertical-align: middle;\n",
       "    }\n",
       "\n",
       "    .dataframe tbody tr th {\n",
       "        vertical-align: top;\n",
       "    }\n",
       "\n",
       "    .dataframe thead th {\n",
       "        text-align: right;\n",
       "    }\n",
       "</style>\n",
       "<table border=\"1\" class=\"dataframe\">\n",
       "  <thead>\n",
       "    <tr style=\"text-align: right;\">\n",
       "      <th></th>\n",
       "      <th>coefficients</th>\n",
       "    </tr>\n",
       "  </thead>\n",
       "  <tbody>\n",
       "    <tr>\n",
       "      <th>property_type_Condominium</th>\n",
       "      <td>-31.017802</td>\n",
       "    </tr>\n",
       "    <tr>\n",
       "      <th>property_type_Townhouse</th>\n",
       "      <td>-28.895386</td>\n",
       "    </tr>\n",
       "    <tr>\n",
       "      <th>property_type_Apartment</th>\n",
       "      <td>-17.060758</td>\n",
       "    </tr>\n",
       "    <tr>\n",
       "      <th>property_type_House</th>\n",
       "      <td>-14.465355</td>\n",
       "    </tr>\n",
       "    <tr>\n",
       "      <th>neighbourhood_group_cleansed_University District</th>\n",
       "      <td>-9.803429</td>\n",
       "    </tr>\n",
       "    <tr>\n",
       "      <th>host_response_time_a few days or more</th>\n",
       "      <td>-4.261904</td>\n",
       "    </tr>\n",
       "    <tr>\n",
       "      <th>host_response_time_within a day</th>\n",
       "      <td>-4.027389</td>\n",
       "    </tr>\n",
       "    <tr>\n",
       "      <th>bathrooms</th>\n",
       "      <td>-3.213133</td>\n",
       "    </tr>\n",
       "    <tr>\n",
       "      <th>neighbourhood_group_cleansed_West Seattle</th>\n",
       "      <td>-2.466787</td>\n",
       "    </tr>\n",
       "    <tr>\n",
       "      <th>num_amenities</th>\n",
       "      <td>-0.483886</td>\n",
       "    </tr>\n",
       "    <tr>\n",
       "      <th>bedrooms</th>\n",
       "      <td>-0.269923</td>\n",
       "    </tr>\n",
       "    <tr>\n",
       "      <th>price</th>\n",
       "      <td>-0.088611</td>\n",
       "    </tr>\n",
       "    <tr>\n",
       "      <th>extra_people</th>\n",
       "      <td>0.032910</td>\n",
       "    </tr>\n",
       "    <tr>\n",
       "      <th>neighbourhood_group_cleansed_Rainier Valley</th>\n",
       "      <td>0.081486</td>\n",
       "    </tr>\n",
       "    <tr>\n",
       "      <th>host_response_rate</th>\n",
       "      <td>0.088719</td>\n",
       "    </tr>\n",
       "    <tr>\n",
       "      <th>host_acceptance_rate</th>\n",
       "      <td>0.141862</td>\n",
       "    </tr>\n",
       "    <tr>\n",
       "      <th>accommodates</th>\n",
       "      <td>0.500783</td>\n",
       "    </tr>\n",
       "    <tr>\n",
       "      <th>neighbourhood_group_cleansed_Central Area</th>\n",
       "      <td>2.636889</td>\n",
       "    </tr>\n",
       "    <tr>\n",
       "      <th>host_response_time_within an hour</th>\n",
       "      <td>2.754522</td>\n",
       "    </tr>\n",
       "    <tr>\n",
       "      <th>guests_included</th>\n",
       "      <td>2.880825</td>\n",
       "    </tr>\n",
       "    <tr>\n",
       "      <th>neighbourhood_group_cleansed_Beacon Hill</th>\n",
       "      <td>3.070209</td>\n",
       "    </tr>\n",
       "    <tr>\n",
       "      <th>host_response_time_within a few hours</th>\n",
       "      <td>5.534771</td>\n",
       "    </tr>\n",
       "    <tr>\n",
       "      <th>neighbourhood_group_cleansed_Capitol Hill</th>\n",
       "      <td>6.239224</td>\n",
       "    </tr>\n",
       "    <tr>\n",
       "      <th>neighbourhood_group_cleansed_Downtown</th>\n",
       "      <td>8.986499</td>\n",
       "    </tr>\n",
       "    <tr>\n",
       "      <th>neighbourhood_group_cleansed_Queen Anne</th>\n",
       "      <td>9.201561</td>\n",
       "    </tr>\n",
       "    <tr>\n",
       "      <th>neighbourhood_group_cleansed_Ballard</th>\n",
       "      <td>11.858595</td>\n",
       "    </tr>\n",
       "    <tr>\n",
       "      <th>host_is_superhost</th>\n",
       "      <td>20.067111</td>\n",
       "    </tr>\n",
       "    <tr>\n",
       "      <th>property_type_Loft</th>\n",
       "      <td>27.280369</td>\n",
       "    </tr>\n",
       "  </tbody>\n",
       "</table>\n",
       "</div>"
      ],
      "text/plain": [
       "                                                  coefficients\n",
       "property_type_Condominium                           -31.017802\n",
       "property_type_Townhouse                             -28.895386\n",
       "property_type_Apartment                             -17.060758\n",
       "property_type_House                                 -14.465355\n",
       "neighbourhood_group_cleansed_University District     -9.803429\n",
       "host_response_time_a few days or more                -4.261904\n",
       "host_response_time_within a day                      -4.027389\n",
       "bathrooms                                            -3.213133\n",
       "neighbourhood_group_cleansed_West Seattle            -2.466787\n",
       "num_amenities                                        -0.483886\n",
       "bedrooms                                             -0.269923\n",
       "price                                                -0.088611\n",
       "extra_people                                          0.032910\n",
       "neighbourhood_group_cleansed_Rainier Valley           0.081486\n",
       "host_response_rate                                    0.088719\n",
       "host_acceptance_rate                                  0.141862\n",
       "accommodates                                          0.500783\n",
       "neighbourhood_group_cleansed_Central Area             2.636889\n",
       "host_response_time_within an hour                     2.754522\n",
       "guests_included                                       2.880825\n",
       "neighbourhood_group_cleansed_Beacon Hill              3.070209\n",
       "host_response_time_within a few hours                 5.534771\n",
       "neighbourhood_group_cleansed_Capitol Hill             6.239224\n",
       "neighbourhood_group_cleansed_Downtown                 8.986499\n",
       "neighbourhood_group_cleansed_Queen Anne               9.201561\n",
       "neighbourhood_group_cleansed_Ballard                 11.858595\n",
       "host_is_superhost                                    20.067111\n",
       "property_type_Loft                                   27.280369"
      ]
     },
     "execution_count": 54,
     "metadata": {},
     "output_type": "execute_result"
    }
   ],
   "source": [
    "all_coeffs = pd.DataFrame(data=lm.coef_, index=lm.feature_names_in_, columns=['coefficients'])\n",
    "all_coeffs.sort_values(by='coefficients')"
   ]
  },
  {
   "cell_type": "markdown",
   "id": "6d6136ea",
   "metadata": {},
   "source": [
    "Again, the R-squared score is low due to the high number of dummy variables for categorical features being fitted in this linear regression model, but we can see that listings that are lofts, which consist of the lowest number of listings of all the property types, are far more likely to get more reviews than other property types, and that superhosts get 20 more reviews on average than those who are not."
   ]
  },
  {
   "cell_type": "code",
   "execution_count": 55,
   "id": "23e509bf",
   "metadata": {},
   "outputs": [
    {
     "data": {
      "image/png": "[encoded data removed]",
      "text/plain": [
       "<Figure size 576x1008 with 2 Axes>"
      ]
     },
     "metadata": {},
     "output_type": "display_data"
    }
   ],
   "source": [
    "bar_violin_plot('number_of_reviews', 'property_type', 'Number of Reviews', 'Property Type',\n",
    "                'Number of Reviews by Property Type', 8, 14)"
   ]
  },
  {
   "cell_type": "code",
   "execution_count": 56,
   "id": "88b18c42",
   "metadata": {},
   "outputs": [
    {
     "data": {
      "text/plain": [
       "property_type\n",
       "Condominium     8.065934\n",
       "Townhouse       9.483051\n",
       "Apartment      21.213115\n",
       "House          23.366994\n",
       "Other          35.094488\n",
       "Loft           45.300000\n",
       "Name: number_of_reviews, dtype: float64"
      ]
     },
     "execution_count": 56,
     "metadata": {},
     "output_type": "execute_result"
    }
   ],
   "source": [
    "listings.groupby(['property_type']).mean()['number_of_reviews'].sort_values()"
   ]
  },
  {
   "cell_type": "code",
   "execution_count": 57,
   "id": "a8d56507",
   "metadata": {},
   "outputs": [
    {
     "data": {
      "image/png": "[encoded data removed]",
      "text/plain": [
       "<Figure size 1152x432 with 2 Axes>"
      ]
     },
     "metadata": {},
     "output_type": "display_data"
    }
   ],
   "source": [
    "fig, ax = plt.subplots(1, 2, figsize=[16,6])\n",
    "\n",
    "sb.barplot(data=listings, x='host_is_superhost', y='number_of_reviews', ax=ax[0], color=sb.color_palette()[0], ci=None)\n",
    "ax[0].set_xticklabels(['false', 'true'])\n",
    "ax[0].set_xlabel('Host is superhost')\n",
    "ax[0].set_ylabel('Number of reviews')\n",
    "ax[0].set_title('Number of Reviews by Superhost Status')\n",
    "\n",
    "sb.violinplot(data=listings, x='host_is_superhost', y='number_of_reviews', color=sb.color_palette()[0], ax=ax[1])\n",
    "ax[1].set_xticklabels(['false', 'true'])\n",
    "ax[1].set_xlabel('Host is superhost')\n",
    "ax[1].set_ylabel('Number of reviews');"
   ]
  },
  {
   "cell_type": "code",
   "execution_count": 58,
   "id": "da1187c6",
   "metadata": {},
   "outputs": [
    {
     "data": {
      "text/plain": [
       "host_is_superhost\n",
       "f    17.235681\n",
       "t    41.757069\n",
       "Name: number_of_reviews, dtype: float64"
      ]
     },
     "execution_count": 58,
     "metadata": {},
     "output_type": "execute_result"
    }
   ],
   "source": [
    "listings.groupby(['host_is_superhost']).mean()['number_of_reviews'].sort_values()"
   ]
  },
  {
   "cell_type": "code",
   "execution_count": 59,
   "id": "a8df9b84",
   "metadata": {},
   "outputs": [
    {
     "data": {
      "text/plain": [
       "count    3818.000000\n",
       "mean       10.667627\n",
       "std        17.585922\n",
       "min         0.000000\n",
       "25%         0.000000\n",
       "50%         0.000000\n",
       "75%        20.000000\n",
       "max       300.000000\n",
       "Name: extra_people, dtype: float64"
      ]
     },
     "execution_count": 59,
     "metadata": {},
     "output_type": "execute_result"
    }
   ],
   "source": [
    "listings['extra_people'].describe()"
   ]
  },
  {
   "cell_type": "markdown",
   "id": "407ccf68",
   "metadata": {},
   "source": [
    "## Question 4: What months of the year are most common for bookings in multi-bedroom listings?"
   ]
  },
  {
   "cell_type": "code",
   "execution_count": 60,
   "id": "06ed0f6b",
   "metadata": {},
   "outputs": [],
   "source": [
    "reviews = pd.read_csv('reviews.csv')"
   ]
  },
  {
   "cell_type": "code",
   "execution_count": 61,
   "id": "9cf0896e",
   "metadata": {},
   "outputs": [
    {
     "data": {
      "text/html": [
       "<div>\n",
       "<style scoped>\n",
       "    .dataframe tbody tr th:only-of-type {\n",
       "        vertical-align: middle;\n",
       "    }\n",
       "\n",
       "    .dataframe tbody tr th {\n",
       "        vertical-align: top;\n",
       "    }\n",
       "\n",
       "    .dataframe thead th {\n",
       "        text-align: right;\n",
       "    }\n",
       "</style>\n",
       "<table border=\"1\" class=\"dataframe\">\n",
       "  <thead>\n",
       "    <tr style=\"text-align: right;\">\n",
       "      <th></th>\n",
       "      <th>listing_id</th>\n",
       "      <th>id</th>\n",
       "      <th>date</th>\n",
       "      <th>reviewer_id</th>\n",
       "      <th>reviewer_name</th>\n",
       "      <th>comments</th>\n",
       "    </tr>\n",
       "  </thead>\n",
       "  <tbody>\n",
       "    <tr>\n",
       "      <th>0</th>\n",
       "      <td>7202016</td>\n",
       "      <td>38917982</td>\n",
       "      <td>2015-07-19</td>\n",
       "      <td>28943674</td>\n",
       "      <td>Bianca</td>\n",
       "      <td>Cute and cozy place. Perfect location to every...</td>\n",
       "    </tr>\n",
       "    <tr>\n",
       "      <th>1</th>\n",
       "      <td>7202016</td>\n",
       "      <td>39087409</td>\n",
       "      <td>2015-07-20</td>\n",
       "      <td>32440555</td>\n",
       "      <td>Frank</td>\n",
       "      <td>Kelly has a great room in a very central locat...</td>\n",
       "    </tr>\n",
       "    <tr>\n",
       "      <th>2</th>\n",
       "      <td>7202016</td>\n",
       "      <td>39820030</td>\n",
       "      <td>2015-07-26</td>\n",
       "      <td>37722850</td>\n",
       "      <td>Ian</td>\n",
       "      <td>Very spacious apartment, and in a great neighb...</td>\n",
       "    </tr>\n",
       "    <tr>\n",
       "      <th>3</th>\n",
       "      <td>7202016</td>\n",
       "      <td>40813543</td>\n",
       "      <td>2015-08-02</td>\n",
       "      <td>33671805</td>\n",
       "      <td>George</td>\n",
       "      <td>Close to Seattle Center and all it has to offe...</td>\n",
       "    </tr>\n",
       "    <tr>\n",
       "      <th>4</th>\n",
       "      <td>7202016</td>\n",
       "      <td>41986501</td>\n",
       "      <td>2015-08-10</td>\n",
       "      <td>34959538</td>\n",
       "      <td>Ming</td>\n",
       "      <td>Kelly was a great host and very accommodating ...</td>\n",
       "    </tr>\n",
       "  </tbody>\n",
       "</table>\n",
       "</div>"
      ],
      "text/plain": [
       "   listing_id        id        date  reviewer_id reviewer_name  \\\n",
       "0     7202016  38917982  2015-07-19     28943674        Bianca   \n",
       "1     7202016  39087409  2015-07-20     32440555         Frank   \n",
       "2     7202016  39820030  2015-07-26     37722850           Ian   \n",
       "3     7202016  40813543  2015-08-02     33671805        George   \n",
       "4     7202016  41986501  2015-08-10     34959538          Ming   \n",
       "\n",
       "                                            comments  \n",
       "0  Cute and cozy place. Perfect location to every...  \n",
       "1  Kelly has a great room in a very central locat...  \n",
       "2  Very spacious apartment, and in a great neighb...  \n",
       "3  Close to Seattle Center and all it has to offe...  \n",
       "4  Kelly was a great host and very accommodating ...  "
      ]
     },
     "execution_count": 61,
     "metadata": {},
     "output_type": "execute_result"
    }
   ],
   "source": [
    "reviews.head()"
   ]
  },
  {
   "cell_type": "code",
   "execution_count": 62,
   "id": "1d1a5c66",
   "metadata": {},
   "outputs": [
    {
     "data": {
      "text/plain": [
       "206203      67\n",
       "15121499    32\n",
       "2734499     19\n",
       "5775807     19\n",
       "29590276    18\n",
       "            ..\n",
       "24843087     1\n",
       "24662663     1\n",
       "5266145      1\n",
       "28944689     1\n",
       "30860360     1\n",
       "Name: reviewer_id, Length: 75730, dtype: int64"
      ]
     },
     "execution_count": 62,
     "metadata": {},
     "output_type": "execute_result"
    }
   ],
   "source": [
    "reviews['reviewer_id'].value_counts()"
   ]
  },
  {
   "cell_type": "code",
   "execution_count": 63,
   "id": "0c899c83",
   "metadata": {},
   "outputs": [
    {
     "data": {
      "text/plain": [
       "0       2015-07-19\n",
       "1       2015-07-20\n",
       "2       2015-07-26\n",
       "3       2015-08-02\n",
       "4       2015-08-10\n",
       "           ...    \n",
       "84844   2015-10-12\n",
       "84845   2015-10-17\n",
       "84846   2015-10-20\n",
       "84847   2015-11-02\n",
       "84848   2015-12-13\n",
       "Name: date, Length: 84849, dtype: datetime64[ns]"
      ]
     },
     "execution_count": 63,
     "metadata": {},
     "output_type": "execute_result"
    }
   ],
   "source": [
    "reviews['date'] = pd.to_datetime(reviews['date'])\n",
    "reviews['date']"
   ]
  },
  {
   "cell_type": "code",
   "execution_count": 64,
   "id": "a10d02d0",
   "metadata": {},
   "outputs": [
    {
     "data": {
      "text/plain": [
       "count                            84849\n",
       "mean     2014-12-26 21:05:14.775660288\n",
       "min                2009-06-07 00:00:00\n",
       "25%                2014-08-09 00:00:00\n",
       "50%                2015-05-16 00:00:00\n",
       "75%                2015-08-27 00:00:00\n",
       "max                2016-01-03 00:00:00\n",
       "Name: date, dtype: object"
      ]
     },
     "execution_count": 64,
     "metadata": {},
     "output_type": "execute_result"
    }
   ],
   "source": [
    "reviews['date'].describe(datetime_is_numeric=True)"
   ]
  },
  {
   "cell_type": "code",
   "execution_count": 65,
   "id": "94cb2b41",
   "metadata": {},
   "outputs": [],
   "source": [
    "reviews['month'] = reviews['date'].dt.month\n",
    "reviews['week'] = reviews['date'].dt.isocalendar().week"
   ]
  },
  {
   "cell_type": "code",
   "execution_count": 66,
   "id": "647200df",
   "metadata": {
    "scrolled": true
   },
   "outputs": [
    {
     "data": {
      "text/html": [
       "<div>\n",
       "<style scoped>\n",
       "    .dataframe tbody tr th:only-of-type {\n",
       "        vertical-align: middle;\n",
       "    }\n",
       "\n",
       "    .dataframe tbody tr th {\n",
       "        vertical-align: top;\n",
       "    }\n",
       "\n",
       "    .dataframe thead th {\n",
       "        text-align: right;\n",
       "    }\n",
       "</style>\n",
       "<table border=\"1\" class=\"dataframe\">\n",
       "  <thead>\n",
       "    <tr style=\"text-align: right;\">\n",
       "      <th></th>\n",
       "      <th>listing_id</th>\n",
       "      <th>week</th>\n",
       "    </tr>\n",
       "  </thead>\n",
       "  <tbody>\n",
       "    <tr>\n",
       "      <th>0</th>\n",
       "      <td>7202016</td>\n",
       "      <td>29</td>\n",
       "    </tr>\n",
       "    <tr>\n",
       "      <th>1</th>\n",
       "      <td>7202016</td>\n",
       "      <td>30</td>\n",
       "    </tr>\n",
       "    <tr>\n",
       "      <th>2</th>\n",
       "      <td>7202016</td>\n",
       "      <td>30</td>\n",
       "    </tr>\n",
       "    <tr>\n",
       "      <th>3</th>\n",
       "      <td>7202016</td>\n",
       "      <td>31</td>\n",
       "    </tr>\n",
       "    <tr>\n",
       "      <th>4</th>\n",
       "      <td>7202016</td>\n",
       "      <td>33</td>\n",
       "    </tr>\n",
       "    <tr>\n",
       "      <th>...</th>\n",
       "      <td>...</td>\n",
       "      <td>...</td>\n",
       "    </tr>\n",
       "    <tr>\n",
       "      <th>84844</th>\n",
       "      <td>3624990</td>\n",
       "      <td>42</td>\n",
       "    </tr>\n",
       "    <tr>\n",
       "      <th>84845</th>\n",
       "      <td>3624990</td>\n",
       "      <td>42</td>\n",
       "    </tr>\n",
       "    <tr>\n",
       "      <th>84846</th>\n",
       "      <td>3624990</td>\n",
       "      <td>43</td>\n",
       "    </tr>\n",
       "    <tr>\n",
       "      <th>84847</th>\n",
       "      <td>3624990</td>\n",
       "      <td>45</td>\n",
       "    </tr>\n",
       "    <tr>\n",
       "      <th>84848</th>\n",
       "      <td>9727246</td>\n",
       "      <td>50</td>\n",
       "    </tr>\n",
       "  </tbody>\n",
       "</table>\n",
       "<p>84849 rows × 2 columns</p>\n",
       "</div>"
      ],
      "text/plain": [
       "       listing_id  week\n",
       "0         7202016    29\n",
       "1         7202016    30\n",
       "2         7202016    30\n",
       "3         7202016    31\n",
       "4         7202016    33\n",
       "...           ...   ...\n",
       "84844     3624990    42\n",
       "84845     3624990    42\n",
       "84846     3624990    43\n",
       "84847     3624990    45\n",
       "84848     9727246    50\n",
       "\n",
       "[84849 rows x 2 columns]"
      ]
     },
     "execution_count": 66,
     "metadata": {},
     "output_type": "execute_result"
    }
   ],
   "source": [
    "reviews[['listing_id', 'week']]"
   ]
  },
  {
   "cell_type": "code",
   "execution_count": 67,
   "id": "0605cc8b",
   "metadata": {},
   "outputs": [
    {
     "data": {
      "text/html": [
       "<div>\n",
       "<style scoped>\n",
       "    .dataframe tbody tr th:only-of-type {\n",
       "        vertical-align: middle;\n",
       "    }\n",
       "\n",
       "    .dataframe tbody tr th {\n",
       "        vertical-align: top;\n",
       "    }\n",
       "\n",
       "    .dataframe thead th {\n",
       "        text-align: right;\n",
       "    }\n",
       "</style>\n",
       "<table border=\"1\" class=\"dataframe\">\n",
       "  <thead>\n",
       "    <tr style=\"text-align: right;\">\n",
       "      <th></th>\n",
       "      <th>listing_id</th>\n",
       "      <th>id_x</th>\n",
       "      <th>date</th>\n",
       "      <th>reviewer_id</th>\n",
       "      <th>reviewer_name</th>\n",
       "      <th>comments</th>\n",
       "      <th>month</th>\n",
       "      <th>week</th>\n",
       "      <th>id_y</th>\n",
       "      <th>host_response_time</th>\n",
       "      <th>...</th>\n",
       "      <th>extra_people</th>\n",
       "      <th>number_of_reviews</th>\n",
       "      <th>review_scores_rating</th>\n",
       "      <th>review_scores_accuracy</th>\n",
       "      <th>review_scores_checkin</th>\n",
       "      <th>review_scores_cleanliness</th>\n",
       "      <th>review_scores_communication</th>\n",
       "      <th>review_scores_location</th>\n",
       "      <th>review_scores_value</th>\n",
       "      <th>num_amenities</th>\n",
       "    </tr>\n",
       "  </thead>\n",
       "  <tbody>\n",
       "    <tr>\n",
       "      <th>0</th>\n",
       "      <td>7202016</td>\n",
       "      <td>38917982</td>\n",
       "      <td>2015-07-19</td>\n",
       "      <td>28943674</td>\n",
       "      <td>Bianca</td>\n",
       "      <td>Cute and cozy place. Perfect location to every...</td>\n",
       "      <td>7</td>\n",
       "      <td>29</td>\n",
       "      <td>7202016</td>\n",
       "      <td>within an hour</td>\n",
       "      <td>...</td>\n",
       "      <td>0.0</td>\n",
       "      <td>16</td>\n",
       "      <td>95.0</td>\n",
       "      <td>10.0</td>\n",
       "      <td>10.0</td>\n",
       "      <td>10.0</td>\n",
       "      <td>10.0</td>\n",
       "      <td>10.0</td>\n",
       "      <td>10.0</td>\n",
       "      <td>12</td>\n",
       "    </tr>\n",
       "    <tr>\n",
       "      <th>1</th>\n",
       "      <td>7202016</td>\n",
       "      <td>39087409</td>\n",
       "      <td>2015-07-20</td>\n",
       "      <td>32440555</td>\n",
       "      <td>Frank</td>\n",
       "      <td>Kelly has a great room in a very central locat...</td>\n",
       "      <td>7</td>\n",
       "      <td>30</td>\n",
       "      <td>7202016</td>\n",
       "      <td>within an hour</td>\n",
       "      <td>...</td>\n",
       "      <td>0.0</td>\n",
       "      <td>16</td>\n",
       "      <td>95.0</td>\n",
       "      <td>10.0</td>\n",
       "      <td>10.0</td>\n",
       "      <td>10.0</td>\n",
       "      <td>10.0</td>\n",
       "      <td>10.0</td>\n",
       "      <td>10.0</td>\n",
       "      <td>12</td>\n",
       "    </tr>\n",
       "    <tr>\n",
       "      <th>2</th>\n",
       "      <td>7202016</td>\n",
       "      <td>39820030</td>\n",
       "      <td>2015-07-26</td>\n",
       "      <td>37722850</td>\n",
       "      <td>Ian</td>\n",
       "      <td>Very spacious apartment, and in a great neighb...</td>\n",
       "      <td>7</td>\n",
       "      <td>30</td>\n",
       "      <td>7202016</td>\n",
       "      <td>within an hour</td>\n",
       "      <td>...</td>\n",
       "      <td>0.0</td>\n",
       "      <td>16</td>\n",
       "      <td>95.0</td>\n",
       "      <td>10.0</td>\n",
       "      <td>10.0</td>\n",
       "      <td>10.0</td>\n",
       "      <td>10.0</td>\n",
       "      <td>10.0</td>\n",
       "      <td>10.0</td>\n",
       "      <td>12</td>\n",
       "    </tr>\n",
       "    <tr>\n",
       "      <th>3</th>\n",
       "      <td>7202016</td>\n",
       "      <td>40813543</td>\n",
       "      <td>2015-08-02</td>\n",
       "      <td>33671805</td>\n",
       "      <td>George</td>\n",
       "      <td>Close to Seattle Center and all it has to offe...</td>\n",
       "      <td>8</td>\n",
       "      <td>31</td>\n",
       "      <td>7202016</td>\n",
       "      <td>within an hour</td>\n",
       "      <td>...</td>\n",
       "      <td>0.0</td>\n",
       "      <td>16</td>\n",
       "      <td>95.0</td>\n",
       "      <td>10.0</td>\n",
       "      <td>10.0</td>\n",
       "      <td>10.0</td>\n",
       "      <td>10.0</td>\n",
       "      <td>10.0</td>\n",
       "      <td>10.0</td>\n",
       "      <td>12</td>\n",
       "    </tr>\n",
       "    <tr>\n",
       "      <th>4</th>\n",
       "      <td>7202016</td>\n",
       "      <td>41986501</td>\n",
       "      <td>2015-08-10</td>\n",
       "      <td>34959538</td>\n",
       "      <td>Ming</td>\n",
       "      <td>Kelly was a great host and very accommodating ...</td>\n",
       "      <td>8</td>\n",
       "      <td>33</td>\n",
       "      <td>7202016</td>\n",
       "      <td>within an hour</td>\n",
       "      <td>...</td>\n",
       "      <td>0.0</td>\n",
       "      <td>16</td>\n",
       "      <td>95.0</td>\n",
       "      <td>10.0</td>\n",
       "      <td>10.0</td>\n",
       "      <td>10.0</td>\n",
       "      <td>10.0</td>\n",
       "      <td>10.0</td>\n",
       "      <td>10.0</td>\n",
       "      <td>12</td>\n",
       "    </tr>\n",
       "    <tr>\n",
       "      <th>...</th>\n",
       "      <td>...</td>\n",
       "      <td>...</td>\n",
       "      <td>...</td>\n",
       "      <td>...</td>\n",
       "      <td>...</td>\n",
       "      <td>...</td>\n",
       "      <td>...</td>\n",
       "      <td>...</td>\n",
       "      <td>...</td>\n",
       "      <td>...</td>\n",
       "      <td>...</td>\n",
       "      <td>...</td>\n",
       "      <td>...</td>\n",
       "      <td>...</td>\n",
       "      <td>...</td>\n",
       "      <td>...</td>\n",
       "      <td>...</td>\n",
       "      <td>...</td>\n",
       "      <td>...</td>\n",
       "      <td>...</td>\n",
       "      <td>...</td>\n",
       "    </tr>\n",
       "    <tr>\n",
       "      <th>84844</th>\n",
       "      <td>3624990</td>\n",
       "      <td>50436321</td>\n",
       "      <td>2015-10-12</td>\n",
       "      <td>37419458</td>\n",
       "      <td>Ryan</td>\n",
       "      <td>The description and pictures of the apartment ...</td>\n",
       "      <td>10</td>\n",
       "      <td>42</td>\n",
       "      <td>3624990</td>\n",
       "      <td>within an hour</td>\n",
       "      <td>...</td>\n",
       "      <td>0.0</td>\n",
       "      <td>18</td>\n",
       "      <td>90.0</td>\n",
       "      <td>10.0</td>\n",
       "      <td>10.0</td>\n",
       "      <td>9.0</td>\n",
       "      <td>10.0</td>\n",
       "      <td>9.0</td>\n",
       "      <td>9.0</td>\n",
       "      <td>13</td>\n",
       "    </tr>\n",
       "    <tr>\n",
       "      <th>84845</th>\n",
       "      <td>3624990</td>\n",
       "      <td>51024875</td>\n",
       "      <td>2015-10-17</td>\n",
       "      <td>6933252</td>\n",
       "      <td>Linda</td>\n",
       "      <td>We had an excellent stay. It was clean and com...</td>\n",
       "      <td>10</td>\n",
       "      <td>42</td>\n",
       "      <td>3624990</td>\n",
       "      <td>within an hour</td>\n",
       "      <td>...</td>\n",
       "      <td>0.0</td>\n",
       "      <td>18</td>\n",
       "      <td>90.0</td>\n",
       "      <td>10.0</td>\n",
       "      <td>10.0</td>\n",
       "      <td>9.0</td>\n",
       "      <td>10.0</td>\n",
       "      <td>9.0</td>\n",
       "      <td>9.0</td>\n",
       "      <td>13</td>\n",
       "    </tr>\n",
       "    <tr>\n",
       "      <th>84846</th>\n",
       "      <td>3624990</td>\n",
       "      <td>51511988</td>\n",
       "      <td>2015-10-20</td>\n",
       "      <td>19543701</td>\n",
       "      <td>Jaime</td>\n",
       "      <td>Gran ubicación, cerca de todo lo atractivo del...</td>\n",
       "      <td>10</td>\n",
       "      <td>43</td>\n",
       "      <td>3624990</td>\n",
       "      <td>within an hour</td>\n",
       "      <td>...</td>\n",
       "      <td>0.0</td>\n",
       "      <td>18</td>\n",
       "      <td>90.0</td>\n",
       "      <td>10.0</td>\n",
       "      <td>10.0</td>\n",
       "      <td>9.0</td>\n",
       "      <td>10.0</td>\n",
       "      <td>9.0</td>\n",
       "      <td>9.0</td>\n",
       "      <td>13</td>\n",
       "    </tr>\n",
       "    <tr>\n",
       "      <th>84847</th>\n",
       "      <td>3624990</td>\n",
       "      <td>52814482</td>\n",
       "      <td>2015-11-02</td>\n",
       "      <td>24445024</td>\n",
       "      <td>Jørgen</td>\n",
       "      <td>Very good apartement, clean and well sized. Si...</td>\n",
       "      <td>11</td>\n",
       "      <td>45</td>\n",
       "      <td>3624990</td>\n",
       "      <td>within an hour</td>\n",
       "      <td>...</td>\n",
       "      <td>0.0</td>\n",
       "      <td>18</td>\n",
       "      <td>90.0</td>\n",
       "      <td>10.0</td>\n",
       "      <td>10.0</td>\n",
       "      <td>9.0</td>\n",
       "      <td>10.0</td>\n",
       "      <td>9.0</td>\n",
       "      <td>9.0</td>\n",
       "      <td>13</td>\n",
       "    </tr>\n",
       "    <tr>\n",
       "      <th>84848</th>\n",
       "      <td>9727246</td>\n",
       "      <td>56429621</td>\n",
       "      <td>2015-12-13</td>\n",
       "      <td>30860360</td>\n",
       "      <td>Stephanie</td>\n",
       "      <td>Breanne was a great host. Check in was easy, s...</td>\n",
       "      <td>12</td>\n",
       "      <td>50</td>\n",
       "      <td>9727246</td>\n",
       "      <td>within a few hours</td>\n",
       "      <td>...</td>\n",
       "      <td>20.0</td>\n",
       "      <td>1</td>\n",
       "      <td>100.0</td>\n",
       "      <td>10.0</td>\n",
       "      <td>10.0</td>\n",
       "      <td>10.0</td>\n",
       "      <td>10.0</td>\n",
       "      <td>10.0</td>\n",
       "      <td>10.0</td>\n",
       "      <td>11</td>\n",
       "    </tr>\n",
       "  </tbody>\n",
       "</table>\n",
       "<p>84849 rows × 30 columns</p>\n",
       "</div>"
      ],
      "text/plain": [
       "       listing_id      id_x       date  reviewer_id reviewer_name  \\\n",
       "0         7202016  38917982 2015-07-19     28943674        Bianca   \n",
       "1         7202016  39087409 2015-07-20     32440555         Frank   \n",
       "2         7202016  39820030 2015-07-26     37722850           Ian   \n",
       "3         7202016  40813543 2015-08-02     33671805        George   \n",
       "4         7202016  41986501 2015-08-10     34959538          Ming   \n",
       "...           ...       ...        ...          ...           ...   \n",
       "84844     3624990  50436321 2015-10-12     37419458          Ryan   \n",
       "84845     3624990  51024875 2015-10-17      6933252         Linda   \n",
       "84846     3624990  51511988 2015-10-20     19543701         Jaime   \n",
       "84847     3624990  52814482 2015-11-02     24445024        Jørgen   \n",
       "84848     9727246  56429621 2015-12-13     30860360     Stephanie   \n",
       "\n",
       "                                                comments  month  week  \\\n",
       "0      Cute and cozy place. Perfect location to every...      7    29   \n",
       "1      Kelly has a great room in a very central locat...      7    30   \n",
       "2      Very spacious apartment, and in a great neighb...      7    30   \n",
       "3      Close to Seattle Center and all it has to offe...      8    31   \n",
       "4      Kelly was a great host and very accommodating ...      8    33   \n",
       "...                                                  ...    ...   ...   \n",
       "84844  The description and pictures of the apartment ...     10    42   \n",
       "84845  We had an excellent stay. It was clean and com...     10    42   \n",
       "84846  Gran ubicación, cerca de todo lo atractivo del...     10    43   \n",
       "84847  Very good apartement, clean and well sized. Si...     11    45   \n",
       "84848  Breanne was a great host. Check in was easy, s...     12    50   \n",
       "\n",
       "          id_y  host_response_time  ...  extra_people  number_of_reviews  \\\n",
       "0      7202016      within an hour  ...           0.0                 16   \n",
       "1      7202016      within an hour  ...           0.0                 16   \n",
       "2      7202016      within an hour  ...           0.0                 16   \n",
       "3      7202016      within an hour  ...           0.0                 16   \n",
       "4      7202016      within an hour  ...           0.0                 16   \n",
       "...        ...                 ...  ...           ...                ...   \n",
       "84844  3624990      within an hour  ...           0.0                 18   \n",
       "84845  3624990      within an hour  ...           0.0                 18   \n",
       "84846  3624990      within an hour  ...           0.0                 18   \n",
       "84847  3624990      within an hour  ...           0.0                 18   \n",
       "84848  9727246  within a few hours  ...          20.0                  1   \n",
       "\n",
       "      review_scores_rating review_scores_accuracy review_scores_checkin  \\\n",
       "0                     95.0                   10.0                  10.0   \n",
       "1                     95.0                   10.0                  10.0   \n",
       "2                     95.0                   10.0                  10.0   \n",
       "3                     95.0                   10.0                  10.0   \n",
       "4                     95.0                   10.0                  10.0   \n",
       "...                    ...                    ...                   ...   \n",
       "84844                 90.0                   10.0                  10.0   \n",
       "84845                 90.0                   10.0                  10.0   \n",
       "84846                 90.0                   10.0                  10.0   \n",
       "84847                 90.0                   10.0                  10.0   \n",
       "84848                100.0                   10.0                  10.0   \n",
       "\n",
       "       review_scores_cleanliness  review_scores_communication  \\\n",
       "0                           10.0                         10.0   \n",
       "1                           10.0                         10.0   \n",
       "2                           10.0                         10.0   \n",
       "3                           10.0                         10.0   \n",
       "4                           10.0                         10.0   \n",
       "...                          ...                          ...   \n",
       "84844                        9.0                         10.0   \n",
       "84845                        9.0                         10.0   \n",
       "84846                        9.0                         10.0   \n",
       "84847                        9.0                         10.0   \n",
       "84848                       10.0                         10.0   \n",
       "\n",
       "       review_scores_location  review_scores_value  num_amenities  \n",
       "0                        10.0                 10.0             12  \n",
       "1                        10.0                 10.0             12  \n",
       "2                        10.0                 10.0             12  \n",
       "3                        10.0                 10.0             12  \n",
       "4                        10.0                 10.0             12  \n",
       "...                       ...                  ...            ...  \n",
       "84844                     9.0                  9.0             13  \n",
       "84845                     9.0                  9.0             13  \n",
       "84846                     9.0                  9.0             13  \n",
       "84847                     9.0                  9.0             13  \n",
       "84848                    10.0                 10.0             11  \n",
       "\n",
       "[84849 rows x 30 columns]"
      ]
     },
     "execution_count": 67,
     "metadata": {},
     "output_type": "execute_result"
    }
   ],
   "source": [
    "reviews = reviews.merge(listings, left_on='listing_id', right_on='id')\n",
    "reviews"
   ]
  },
  {
   "cell_type": "code",
   "execution_count": 68,
   "id": "18e14b93",
   "metadata": {},
   "outputs": [
    {
     "data": {
      "text/html": [
       "<div>\n",
       "<style scoped>\n",
       "    .dataframe tbody tr th:only-of-type {\n",
       "        vertical-align: middle;\n",
       "    }\n",
       "\n",
       "    .dataframe tbody tr th {\n",
       "        vertical-align: top;\n",
       "    }\n",
       "\n",
       "    .dataframe thead th {\n",
       "        text-align: right;\n",
       "    }\n",
       "</style>\n",
       "<table border=\"1\" class=\"dataframe\">\n",
       "  <thead>\n",
       "    <tr style=\"text-align: right;\">\n",
       "      <th></th>\n",
       "      <th>month</th>\n",
       "      <th>week</th>\n",
       "      <th>bedrooms</th>\n",
       "    </tr>\n",
       "  </thead>\n",
       "  <tbody>\n",
       "    <tr>\n",
       "      <th>0</th>\n",
       "      <td>7</td>\n",
       "      <td>29</td>\n",
       "      <td>1</td>\n",
       "    </tr>\n",
       "    <tr>\n",
       "      <th>1</th>\n",
       "      <td>7</td>\n",
       "      <td>30</td>\n",
       "      <td>1</td>\n",
       "    </tr>\n",
       "    <tr>\n",
       "      <th>2</th>\n",
       "      <td>7</td>\n",
       "      <td>30</td>\n",
       "      <td>1</td>\n",
       "    </tr>\n",
       "    <tr>\n",
       "      <th>3</th>\n",
       "      <td>8</td>\n",
       "      <td>31</td>\n",
       "      <td>1</td>\n",
       "    </tr>\n",
       "    <tr>\n",
       "      <th>4</th>\n",
       "      <td>8</td>\n",
       "      <td>33</td>\n",
       "      <td>1</td>\n",
       "    </tr>\n",
       "  </tbody>\n",
       "</table>\n",
       "</div>"
      ],
      "text/plain": [
       "   month  week  bedrooms\n",
       "0      7    29         1\n",
       "1      7    30         1\n",
       "2      7    30         1\n",
       "3      8    31         1\n",
       "4      8    33         1"
      ]
     },
     "execution_count": 68,
     "metadata": {},
     "output_type": "execute_result"
    }
   ],
   "source": [
    "date_bedrooms = reviews[['month', 'week', 'bedrooms']].dropna()\n",
    "date_bedrooms['bedrooms'] = date_bedrooms['bedrooms'].astype('int')\n",
    "date_bedrooms.head()"
   ]
  },
  {
   "cell_type": "code",
   "execution_count": 69,
   "id": "1d02ba04",
   "metadata": {},
   "outputs": [
    {
     "data": {
      "text/plain": [
       "Text(0.5, 1.0, 'Number of Bookings by Month and Number of Bedrooms')"
      ]
     },
     "execution_count": 69,
     "metadata": {},
     "output_type": "execute_result"
    },
    {
     "data": {
      "image/png": "[encoded data removed]",
      "text/plain": [
       "<Figure size 576x432 with 1 Axes>"
      ]
     },
     "metadata": {},
     "output_type": "display_data"
    }
   ],
   "source": [
    "plt.figure(figsize = [8,6])\n",
    "g = sb.countplot(data=date_bedrooms.query('(bedrooms > 1) & (bedrooms < 6)'), x='month', hue='bedrooms');\n",
    "g.set_xticklabels(['Jan', 'Feb', 'Mar', 'Apr', 'May', 'Jun', 'Jul', 'Aug', 'Sep', 'Oct', 'Nov', 'Dec']);\n",
    "plt.title('Number of Bookings by Month and Number of Bedrooms')"
   ]
  },
  {
   "cell_type": "markdown",
   "id": "70891b84",
   "metadata": {},
   "source": [
    "For 2-5 bedroom listings, the months of August and September are the most commonly booked based on the number of reviews written., while January and February are the least commonly booked. This indicates that the summer months are the most popular times of travel to Seattle for families and larger groups."
   ]
  },
  {
   "cell_type": "code",
   "execution_count": null,
   "id": "65a9a505",
   "metadata": {},
   "outputs": [],
   "source": []
  }
 ],
 "metadata": {
  "kernelspec": {
   "display_name": "Python 3 (ipykernel)",
   "language": "python",
   "name": "python3"
  },
  "language_info": {
   "codemirror_mode": {
    "name": "ipython",
    "version": 3
   },
   "file_extension": ".py",
   "mimetype": "text/x-python",
   "name": "python",
   "nbconvert_exporter": "python",
   "pygments_lexer": "ipython3",
   "version": "3.8.12"
  }
 },
 "nbformat": 4,
 "nbformat_minor": 5
}
